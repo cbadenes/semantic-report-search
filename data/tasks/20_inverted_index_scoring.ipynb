{
 "cells": [
  {
   "cell_type": "markdown",
   "id": "3040631b",
   "metadata": {},
   "source": [
    "# Search with Inverted Index and Relevance Scoring (TF-IDF / BM25)\n",
    "\n",
    "In this notebook, we demonstrate how to build an **inverted index** using keywords from reports, and apply **relevance scoring models** such as TF-IDF or BM25 to rank results.\n",
    "\n",
    "This approach does not require embeddings and reflects traditional information retrieval techniques."
   ]
  },
  {
   "cell_type": "code",
   "execution_count": 1,
   "id": "e98e959c",
   "metadata": {},
   "outputs": [],
   "source": [
    "import pandas as pd\n",
    "from pathlib import Path\n",
    "from sklearn.feature_extraction.text import TfidfVectorizer\n",
    "from rank_bm25 import BM25Okapi\n",
    "# Display full content in cells (not truncated)\n",
    "pd.set_option(\"display.max_colwidth\", None)\n",
    "pd.set_option(\"display.max_columns\", 100)\n",
    "pd.set_option(\"display.max_rows\", 100)"
   ]
  },
  {
   "cell_type": "markdown",
   "id": "33f327a6",
   "metadata": {},
   "source": [
    "## Load report keywords and create keyword documents"
   ]
  },
  {
   "cell_type": "code",
   "execution_count": 2,
   "id": "a6b91625",
   "metadata": {},
   "outputs": [
    {
     "name": "stdout",
     "output_type": "stream",
     "text": [
      "Loaded 1542 reports with keyword documents.\n"
     ]
    },
    {
     "data": {
      "text/html": [
       "<div>\n",
       "<style scoped>\n",
       "    .dataframe tbody tr th:only-of-type {\n",
       "        vertical-align: middle;\n",
       "    }\n",
       "\n",
       "    .dataframe tbody tr th {\n",
       "        vertical-align: top;\n",
       "    }\n",
       "\n",
       "    .dataframe thead th {\n",
       "        text-align: right;\n",
       "    }\n",
       "</style>\n",
       "<table border=\"1\" class=\"dataframe\">\n",
       "  <thead>\n",
       "    <tr style=\"text-align: right;\">\n",
       "      <th></th>\n",
       "      <th>ID Data Product</th>\n",
       "      <th>Report Name</th>\n",
       "      <th>Report View</th>\n",
       "      <th>Tags</th>\n",
       "      <th>keywords</th>\n",
       "    </tr>\n",
       "  </thead>\n",
       "  <tbody>\n",
       "    <tr>\n",
       "      <th>0</th>\n",
       "      <td>RPPBI0032</td>\n",
       "      <td>Feeder Market - 2024</td>\n",
       "      <td>CRITERIA</td>\n",
       "      <td></td>\n",
       "      <td>2024, criterion, definition, feed, feeder market, market, methodolody</td>\n",
       "    </tr>\n",
       "    <tr>\n",
       "      <th>1</th>\n",
       "      <td>RPPBI0032</td>\n",
       "      <td>Feeder Market - 2024</td>\n",
       "      <td>DESTINATION_OF_FEEDER_MARKETS</td>\n",
       "      <td></td>\n",
       "      <td>2024, adr, aov, feeder, feeder markte, hotel, market, view</td>\n",
       "    </tr>\n",
       "    <tr>\n",
       "      <th>2</th>\n",
       "      <td>RPPBI0032</td>\n",
       "      <td>Feeder Market - 2024</td>\n",
       "      <td>EXECUTIVE VIEW</td>\n",
       "      <td></td>\n",
       "      <td>2024, adr, aov, executive, feeder, feeder market performance, global view, market, previous year diferentiating, view</td>\n",
       "    </tr>\n",
       "    <tr>\n",
       "      <th>3</th>\n",
       "      <td>RPPBI0032</td>\n",
       "      <td>Feeder Market - 2024</td>\n",
       "      <td>FEEDER MARKET FLOWS</td>\n",
       "      <td></td>\n",
       "      <td>2024, adr, aov, channel, contribution, destination, feeder, feeder market, flow, market, segment, total revenue, view, which</td>\n",
       "    </tr>\n",
       "    <tr>\n",
       "      <th>4</th>\n",
       "      <td>RPPBI0032</td>\n",
       "      <td>Feeder Market - 2024</td>\n",
       "      <td>FEEDER_MARKET_DETAIL</td>\n",
       "      <td></td>\n",
       "      <td>2024, adr, aov, channel, destination, detail, detail view, feeder, feeder markets, market, more indepth view, top_agency, top_company information</td>\n",
       "    </tr>\n",
       "  </tbody>\n",
       "</table>\n",
       "</div>"
      ],
      "text/plain": [
       "  ID Data Product           Report Name                    Report View Tags  \\\n",
       "0       RPPBI0032  Feeder Market - 2024                       CRITERIA        \n",
       "1       RPPBI0032  Feeder Market - 2024  DESTINATION_OF_FEEDER_MARKETS        \n",
       "2       RPPBI0032  Feeder Market - 2024                 EXECUTIVE VIEW        \n",
       "3       RPPBI0032  Feeder Market - 2024            FEEDER MARKET FLOWS        \n",
       "4       RPPBI0032  Feeder Market - 2024           FEEDER_MARKET_DETAIL        \n",
       "\n",
       "                                                                                                                                            keywords  \n",
       "0                                                                              2024, criterion, definition, feed, feeder market, market, methodolody  \n",
       "1                                                                                         2024, adr, aov, feeder, feeder markte, hotel, market, view  \n",
       "2                              2024, adr, aov, executive, feeder, feeder market performance, global view, market, previous year diferentiating, view  \n",
       "3                       2024, adr, aov, channel, contribution, destination, feeder, feeder market, flow, market, segment, total revenue, view, which  \n",
       "4  2024, adr, aov, channel, destination, detail, detail view, feeder, feeder markets, market, more indepth view, top_agency, top_company information  "
      ]
     },
     "execution_count": 2,
     "metadata": {},
     "output_type": "execute_result"
    }
   ],
   "source": [
    "reports_path = Path(\"../api/reports.csv\")\n",
    "df = pd.read_csv(reports_path).fillna(\"\")\n",
    "print(f\"Loaded {len(df)} reports with keyword documents.\")\n",
    "df.head(5)"
   ]
  },
  {
   "cell_type": "markdown",
   "id": "07799620",
   "metadata": {},
   "source": [
    "## Search using TF-IDF ranking"
   ]
  },
  {
   "cell_type": "code",
   "execution_count": null,
   "id": "82c2a673",
   "metadata": {},
   "outputs": [
    {
     "data": {
      "text/html": [
       "<div>\n",
       "<style scoped>\n",
       "    .dataframe tbody tr th:only-of-type {\n",
       "        vertical-align: middle;\n",
       "    }\n",
       "\n",
       "    .dataframe tbody tr th {\n",
       "        vertical-align: top;\n",
       "    }\n",
       "\n",
       "    .dataframe thead th {\n",
       "        text-align: right;\n",
       "    }\n",
       "</style>\n",
       "<table border=\"1\" class=\"dataframe\">\n",
       "  <thead>\n",
       "    <tr style=\"text-align: right;\">\n",
       "      <th></th>\n",
       "      <th>Report Name</th>\n",
       "      <th>Report View</th>\n",
       "      <th>keywords</th>\n",
       "      <th>score_tfidf</th>\n",
       "    </tr>\n",
       "  </thead>\n",
       "  <tbody>\n",
       "    <tr>\n",
       "      <th>39</th>\n",
       "      <td>eCommerce Report 2024</td>\n",
       "      <td>B2B Digital Report</td>\n",
       "      <td>2024, agency, b2b, b2b digital, b2b digital performance, b2b digital subchannel, company, contribution, digital, ecommerce, filter, finally two table, month evolution, performance, report, specific view, sub bu, subchannel, user</td>\n",
       "      <td>0.678569</td>\n",
       "    </tr>\n",
       "    <tr>\n",
       "      <th>54</th>\n",
       "      <td>eCommerce Report 2025</td>\n",
       "      <td>B2B Digital Report</td>\n",
       "      <td>2025, agency, b2b, b2b digital, b2b digital performance, b2b digital subchannel, company, contribution, digital, ecommerce, filter, finally two table, month evolution, performance, report, specific view, sub bu, subchannel, user</td>\n",
       "      <td>0.678012</td>\n",
       "    </tr>\n",
       "    <tr>\n",
       "      <th>929</th>\n",
       "      <td>eCommerce Report 2023</td>\n",
       "      <td>B2B Digital Report</td>\n",
       "      <td>2023, agency, b2b, b2b digital, b2b digital performance, b2b digital subchannel, company, contribution, digital, ecommerce, filter, finally two table, month evolution, performance, report, specific view, sub bu, subchannel, user</td>\n",
       "      <td>0.676706</td>\n",
       "    </tr>\n",
       "    <tr>\n",
       "      <th>924</th>\n",
       "      <td>eCommerce Report 2022</td>\n",
       "      <td>B2B Digital Report</td>\n",
       "      <td>2022, agency, b2b, b2b digital, b2b digital performance, b2b digital subchannel, company, contribution, digital, ecommerce, filter, finally two table, month evolution, performance, report, specific view, sub bu, subchannel, user</td>\n",
       "      <td>0.674901</td>\n",
       "    </tr>\n",
       "  </tbody>\n",
       "</table>\n",
       "</div>"
      ],
      "text/plain": [
       "               Report Name         Report View  \\\n",
       "39   eCommerce Report 2024  B2B Digital Report   \n",
       "54   eCommerce Report 2025  B2B Digital Report   \n",
       "929  eCommerce Report 2023  B2B Digital Report   \n",
       "924  eCommerce Report 2022  B2B Digital Report   \n",
       "\n",
       "                                                                                                                                                                                                                                 keywords  \\\n",
       "39   2024, agency, b2b, b2b digital, b2b digital performance, b2b digital subchannel, company, contribution, digital, ecommerce, filter, finally two table, month evolution, performance, report, specific view, sub bu, subchannel, user   \n",
       "54   2025, agency, b2b, b2b digital, b2b digital performance, b2b digital subchannel, company, contribution, digital, ecommerce, filter, finally two table, month evolution, performance, report, specific view, sub bu, subchannel, user   \n",
       "929  2023, agency, b2b, b2b digital, b2b digital performance, b2b digital subchannel, company, contribution, digital, ecommerce, filter, finally two table, month evolution, performance, report, specific view, sub bu, subchannel, user   \n",
       "924  2022, agency, b2b, b2b digital, b2b digital performance, b2b digital subchannel, company, contribution, digital, ecommerce, filter, finally two table, month evolution, performance, report, specific view, sub bu, subchannel, user   \n",
       "\n",
       "     score_tfidf  \n",
       "39      0.678569  \n",
       "54      0.678012  \n",
       "929     0.676706  \n",
       "924     0.674901  "
      ]
     },
     "execution_count": 6,
     "metadata": {},
     "output_type": "execute_result"
    }
   ],
   "source": [
    "# Build TF-IDF matrix\n",
    "vectorizer = TfidfVectorizer()\n",
    "tfidf_matrix = vectorizer.fit_transform(df['keywords'])\n",
    "\n",
    "# Define query\n",
    "query = \"digital\"\n",
    "query_vec = vectorizer.transform([query])\n",
    "\n",
    "# Compute cosine similarity scores\n",
    "from sklearn.metrics.pairwise import linear_kernel\n",
    "cosine_similarities = linear_kernel(query_vec, tfidf_matrix).flatten()\n",
    "\n",
    "df['score_tfidf'] = cosine_similarities\n",
    "results_tfidf = df[df['score_tfidf'] > 0].sort_values(by='score_tfidf', ascending=False)\n",
    "results_tfidf[['Report Name', 'Report View', 'keywords', 'score_tfidf']].head(10)"
   ]
  },
  {
   "cell_type": "markdown",
   "id": "139e4fd8",
   "metadata": {},
   "source": [
    "## Search using BM25 ranking"
   ]
  },
  {
   "cell_type": "code",
   "execution_count": 7,
   "id": "00073339",
   "metadata": {},
   "outputs": [
    {
     "data": {
      "text/html": [
       "<div>\n",
       "<style scoped>\n",
       "    .dataframe tbody tr th:only-of-type {\n",
       "        vertical-align: middle;\n",
       "    }\n",
       "\n",
       "    .dataframe tbody tr th {\n",
       "        vertical-align: top;\n",
       "    }\n",
       "\n",
       "    .dataframe thead th {\n",
       "        text-align: right;\n",
       "    }\n",
       "</style>\n",
       "<table border=\"1\" class=\"dataframe\">\n",
       "  <thead>\n",
       "    <tr style=\"text-align: right;\">\n",
       "      <th></th>\n",
       "      <th>Report Name</th>\n",
       "      <th>Report View</th>\n",
       "      <th>keywords</th>\n",
       "      <th>score_bm25</th>\n",
       "    </tr>\n",
       "  </thead>\n",
       "  <tbody>\n",
       "    <tr>\n",
       "      <th>39</th>\n",
       "      <td>eCommerce Report 2024</td>\n",
       "      <td>B2B Digital Report</td>\n",
       "      <td>2024, agency, b2b, b2b digital, b2b digital performance, b2b digital subchannel, company, contribution, digital, ecommerce, filter, finally two table, month evolution, performance, report, specific view, sub bu, subchannel, user</td>\n",
       "      <td>3.510678</td>\n",
       "    </tr>\n",
       "    <tr>\n",
       "      <th>54</th>\n",
       "      <td>eCommerce Report 2025</td>\n",
       "      <td>B2B Digital Report</td>\n",
       "      <td>2025, agency, b2b, b2b digital, b2b digital performance, b2b digital subchannel, company, contribution, digital, ecommerce, filter, finally two table, month evolution, performance, report, specific view, sub bu, subchannel, user</td>\n",
       "      <td>3.510678</td>\n",
       "    </tr>\n",
       "    <tr>\n",
       "      <th>924</th>\n",
       "      <td>eCommerce Report 2022</td>\n",
       "      <td>B2B Digital Report</td>\n",
       "      <td>2022, agency, b2b, b2b digital, b2b digital performance, b2b digital subchannel, company, contribution, digital, ecommerce, filter, finally two table, month evolution, performance, report, specific view, sub bu, subchannel, user</td>\n",
       "      <td>3.510678</td>\n",
       "    </tr>\n",
       "    <tr>\n",
       "      <th>929</th>\n",
       "      <td>eCommerce Report 2023</td>\n",
       "      <td>B2B Digital Report</td>\n",
       "      <td>2023, agency, b2b, b2b digital, b2b digital performance, b2b digital subchannel, company, contribution, digital, ecommerce, filter, finally two table, month evolution, performance, report, specific view, sub bu, subchannel, user</td>\n",
       "      <td>3.510678</td>\n",
       "    </tr>\n",
       "  </tbody>\n",
       "</table>\n",
       "</div>"
      ],
      "text/plain": [
       "               Report Name         Report View  \\\n",
       "39   eCommerce Report 2024  B2B Digital Report   \n",
       "54   eCommerce Report 2025  B2B Digital Report   \n",
       "924  eCommerce Report 2022  B2B Digital Report   \n",
       "929  eCommerce Report 2023  B2B Digital Report   \n",
       "\n",
       "                                                                                                                                                                                                                                 keywords  \\\n",
       "39   2024, agency, b2b, b2b digital, b2b digital performance, b2b digital subchannel, company, contribution, digital, ecommerce, filter, finally two table, month evolution, performance, report, specific view, sub bu, subchannel, user   \n",
       "54   2025, agency, b2b, b2b digital, b2b digital performance, b2b digital subchannel, company, contribution, digital, ecommerce, filter, finally two table, month evolution, performance, report, specific view, sub bu, subchannel, user   \n",
       "924  2022, agency, b2b, b2b digital, b2b digital performance, b2b digital subchannel, company, contribution, digital, ecommerce, filter, finally two table, month evolution, performance, report, specific view, sub bu, subchannel, user   \n",
       "929  2023, agency, b2b, b2b digital, b2b digital performance, b2b digital subchannel, company, contribution, digital, ecommerce, filter, finally two table, month evolution, performance, report, specific view, sub bu, subchannel, user   \n",
       "\n",
       "     score_bm25  \n",
       "39     3.510678  \n",
       "54     3.510678  \n",
       "924    3.510678  \n",
       "929    3.510678  "
      ]
     },
     "execution_count": 7,
     "metadata": {},
     "output_type": "execute_result"
    }
   ],
   "source": [
    "# Prepare tokenized documents\n",
    "df['keyword_list'] = df['keywords'].apply(lambda x: [kw.strip().lower() for kw in x.split(',') if kw.strip()])\n",
    "tokenized_corpus = df['keyword_list'].tolist()\n",
    "bm25 = BM25Okapi(tokenized_corpus)\n",
    "\n",
    "# Query as list of terms\n",
    "query_terms = query.lower().split()\n",
    "bm25_scores = bm25.get_scores(query_terms)\n",
    "\n",
    "df['score_bm25'] = bm25_scores\n",
    "results_bm25 = df[df['score_bm25'] > 0].sort_values(by='score_bm25', ascending=False)\n",
    "results_bm25[['Report Name', 'Report View', 'keywords', 'score_bm25']].head(10)"
   ]
  },
  {
   "cell_type": "code",
   "execution_count": null,
   "id": "482536c2",
   "metadata": {},
   "outputs": [],
   "source": []
  }
 ],
 "metadata": {
  "finalized": {
   "timestamp": 1747803264117,
   "trusted": true
  },
  "kernelspec": {
   "display_name": ".venv",
   "language": "python",
   "name": "python3"
  },
  "language_info": {
   "codemirror_mode": {
    "name": "ipython",
    "version": 3
   },
   "file_extension": ".py",
   "mimetype": "text/x-python",
   "name": "python",
   "nbconvert_exporter": "python",
   "pygments_lexer": "ipython3",
   "version": "3.9.16"
  }
 },
 "nbformat": 4,
 "nbformat_minor": 5
}
