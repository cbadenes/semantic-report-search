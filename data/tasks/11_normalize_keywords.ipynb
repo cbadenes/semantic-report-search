{
 "cells": [
  {
   "cell_type": "markdown",
   "id": "c611d68f",
   "metadata": {},
   "source": [
    "# Normalization and Lemmatization of Keywords\n",
    "\n",
    "This notebook loads the `reports.csv` file, processes the `keywords` column to:\n",
    "- Convert all keywords to lowercase\n",
    "- Lemmatize each keyword using SpaCy\n",
    "- Remove duplicates and reorder alphabetically\n",
    "\n",
    "The result will be saved back into `data/api/reports.csv` with updated keywords for better search matching."
   ]
  },
  {
   "cell_type": "code",
   "execution_count": 8,
   "id": "6f83f276",
   "metadata": {},
   "outputs": [],
   "source": [
    "# Load libraries\n",
    "import pandas as pd\n",
    "import spacy\n",
    "from pathlib import Path\n",
    "\n",
    "# Load spaCy English model (run this cell once to download if needed)\n",
    "# !python -m spacy download en_core_web_sm\n",
    "nlp = spacy.load(\"en_core_web_sm\")"
   ]
  },
  {
   "cell_type": "code",
   "execution_count": 9,
   "id": "e7154efb",
   "metadata": {},
   "outputs": [
    {
     "data": {
      "text/html": [
       "<div>\n",
       "<style scoped>\n",
       "    .dataframe tbody tr th:only-of-type {\n",
       "        vertical-align: middle;\n",
       "    }\n",
       "\n",
       "    .dataframe tbody tr th {\n",
       "        vertical-align: top;\n",
       "    }\n",
       "\n",
       "    .dataframe thead th {\n",
       "        text-align: right;\n",
       "    }\n",
       "</style>\n",
       "<table border=\"1\" class=\"dataframe\">\n",
       "  <thead>\n",
       "    <tr style=\"text-align: right;\">\n",
       "      <th></th>\n",
       "      <th>ID Data Product</th>\n",
       "      <th>Report Name</th>\n",
       "      <th>Report View</th>\n",
       "      <th>Tags</th>\n",
       "      <th>keywords</th>\n",
       "    </tr>\n",
       "  </thead>\n",
       "  <tbody>\n",
       "    <tr>\n",
       "      <th>0</th>\n",
       "      <td>RPPBI0032</td>\n",
       "      <td>Feeder Market - 2024</td>\n",
       "      <td>CRITERIA</td>\n",
       "      <td></td>\n",
       "      <td>2024, CRITERIA, Feeder, Market</td>\n",
       "    </tr>\n",
       "    <tr>\n",
       "      <th>1</th>\n",
       "      <td>RPPBI0032</td>\n",
       "      <td>Feeder Market - 2024</td>\n",
       "      <td>DESTINATION_OF_FEEDER_MARKETS</td>\n",
       "      <td></td>\n",
       "      <td>2024, ADR, AOV, Feeder, Market, RN</td>\n",
       "    </tr>\n",
       "    <tr>\n",
       "      <th>2</th>\n",
       "      <td>RPPBI0032</td>\n",
       "      <td>Feeder Market - 2024</td>\n",
       "      <td>EXECUTIVE VIEW</td>\n",
       "      <td></td>\n",
       "      <td>2024, ADR, AOV, EXECUTIVE, Feeder, Market, RN,...</td>\n",
       "    </tr>\n",
       "  </tbody>\n",
       "</table>\n",
       "</div>"
      ],
      "text/plain": [
       "  ID Data Product           Report Name                    Report View Tags  \\\n",
       "0       RPPBI0032  Feeder Market - 2024                       CRITERIA        \n",
       "1       RPPBI0032  Feeder Market - 2024  DESTINATION_OF_FEEDER_MARKETS        \n",
       "2       RPPBI0032  Feeder Market - 2024                 EXECUTIVE VIEW        \n",
       "\n",
       "                                            keywords  \n",
       "0                     2024, CRITERIA, Feeder, Market  \n",
       "1                 2024, ADR, AOV, Feeder, Market, RN  \n",
       "2  2024, ADR, AOV, EXECUTIVE, Feeder, Market, RN,...  "
      ]
     },
     "execution_count": 9,
     "metadata": {},
     "output_type": "execute_result"
    }
   ],
   "source": [
    "# Load the original CSV used by the API\n",
    "csv_path = Path(\"../api/reports.csv\")\n",
    "df = pd.read_csv(csv_path)\n",
    "df.fillna(\"\", inplace=True)\n",
    "df.head(3)"
   ]
  },
  {
   "cell_type": "markdown",
   "id": "6bbfbe6a",
   "metadata": {},
   "source": [
    "## Normalize and lemmatize keywords"
   ]
  },
  {
   "cell_type": "code",
   "execution_count": 10,
   "id": "12f28cbd",
   "metadata": {},
   "outputs": [
    {
     "data": {
      "text/html": [
       "<div>\n",
       "<style scoped>\n",
       "    .dataframe tbody tr th:only-of-type {\n",
       "        vertical-align: middle;\n",
       "    }\n",
       "\n",
       "    .dataframe tbody tr th {\n",
       "        vertical-align: top;\n",
       "    }\n",
       "\n",
       "    .dataframe thead th {\n",
       "        text-align: right;\n",
       "    }\n",
       "</style>\n",
       "<table border=\"1\" class=\"dataframe\">\n",
       "  <thead>\n",
       "    <tr style=\"text-align: right;\">\n",
       "      <th></th>\n",
       "      <th>ID Data Product</th>\n",
       "      <th>Report Name</th>\n",
       "      <th>Report View</th>\n",
       "      <th>Tags</th>\n",
       "      <th>keywords</th>\n",
       "    </tr>\n",
       "  </thead>\n",
       "  <tbody>\n",
       "    <tr>\n",
       "      <th>0</th>\n",
       "      <td>RPPBI0032</td>\n",
       "      <td>Feeder Market - 2024</td>\n",
       "      <td>CRITERIA</td>\n",
       "      <td></td>\n",
       "      <td>2024, criterion, feed, market</td>\n",
       "    </tr>\n",
       "    <tr>\n",
       "      <th>1</th>\n",
       "      <td>RPPBI0032</td>\n",
       "      <td>Feeder Market - 2024</td>\n",
       "      <td>DESTINATION_OF_FEEDER_MARKETS</td>\n",
       "      <td></td>\n",
       "      <td>2024, adr, aov, feeder, market</td>\n",
       "    </tr>\n",
       "    <tr>\n",
       "      <th>2</th>\n",
       "      <td>RPPBI0032</td>\n",
       "      <td>Feeder Market - 2024</td>\n",
       "      <td>EXECUTIVE VIEW</td>\n",
       "      <td></td>\n",
       "      <td>2024, adr, aov, executive, feeder, market, view</td>\n",
       "    </tr>\n",
       "  </tbody>\n",
       "</table>\n",
       "</div>"
      ],
      "text/plain": [
       "  ID Data Product           Report Name                    Report View Tags  \\\n",
       "0       RPPBI0032  Feeder Market - 2024                       CRITERIA        \n",
       "1       RPPBI0032  Feeder Market - 2024  DESTINATION_OF_FEEDER_MARKETS        \n",
       "2       RPPBI0032  Feeder Market - 2024                 EXECUTIVE VIEW        \n",
       "\n",
       "                                          keywords  \n",
       "0                    2024, criterion, feed, market  \n",
       "1                   2024, adr, aov, feeder, market  \n",
       "2  2024, adr, aov, executive, feeder, market, view  "
      ]
     },
     "execution_count": 10,
     "metadata": {},
     "output_type": "execute_result"
    }
   ],
   "source": [
    "def normalize_keywords(keyword_string):\n",
    "    # Split and clean original keywords\n",
    "    tokens = [kw.strip().lower() for kw in keyword_string.split(\",\") if kw.strip()]\n",
    "    # Lemmatize using spaCy\n",
    "    doc = nlp(\" \".join(tokens))\n",
    "    lemmatized = sorted(set([token.lemma_ for token in doc if len(token.lemma_) > 2]))\n",
    "    return \", \".join(lemmatized)\n",
    "\n",
    "# Apply normalization\n",
    "df[\"keywords\"] = df[\"keywords\"].apply(normalize_keywords)\n",
    "df.head(3)"
   ]
  },
  {
   "cell_type": "code",
   "execution_count": 11,
   "id": "c992fcc0",
   "metadata": {},
   "outputs": [
    {
     "name": "stdout",
     "output_type": "stream",
     "text": [
      "Normalized CSV saved to: ../api/reports.csv\n"
     ]
    }
   ],
   "source": [
    "# Save the updated DataFrame back to CSV\n",
    "output_path = Path(\"../api/reports.csv\")\n",
    "df.to_csv(output_path, index=False)\n",
    "print(f\"Normalized CSV saved to: {output_path}\")"
   ]
  }
 ],
 "metadata": {
  "kernelspec": {
   "display_name": ".venv",
   "language": "python",
   "name": "python3"
  },
  "language_info": {
   "codemirror_mode": {
    "name": "ipython",
    "version": 3
   },
   "file_extension": ".py",
   "mimetype": "text/x-python",
   "name": "python",
   "nbconvert_exporter": "python",
   "pygments_lexer": "ipython3",
   "version": "3.9.1"
  }
 },
 "nbformat": 4,
 "nbformat_minor": 5
}
