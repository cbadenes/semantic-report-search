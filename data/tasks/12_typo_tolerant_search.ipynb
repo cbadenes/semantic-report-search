{
 "cells": [
  {
   "cell_type": "markdown",
   "id": "542f74e2",
   "metadata": {},
   "source": [
    "# Typo-Tolerant Search Using Levenshtein Distance (P1.2)\n",
    "\n",
    "This notebook demonstrates how to handle typos in user queries.\n",
    "\n",
    "We solve the problem where a search for `\"repot\"` fails to find entries like `\"report\"` or `\"reports\"`, due to strict keyword matching.\n",
    "\n",
    "**Goal**: use Levenshtein distance to detect the closest valid keyword and search using that instead.\n",
    "\n",
    "We will:\n",
    "- Load the keywords from `reports.csv`\n",
    "- Implement a distance function using `python-Levenshtein`\n",
    "- Find the closest matching keyword\n",
    "- Return matching entries from the dataset"
   ]
  },
  {
   "cell_type": "code",
   "execution_count": 6,
   "id": "f7092727",
   "metadata": {},
   "outputs": [],
   "source": [
    "import pandas as pd\n",
    "import Levenshtein\n",
    "from pathlib import Path\n",
    "\n",
    "# Load the data\n",
    "df = pd.read_csv(\"../api/reports.csv\")\n",
    "df.fillna(\"\", inplace=True)"
   ]
  },
  {
   "cell_type": "markdown",
   "id": "abc51c03",
   "metadata": {},
   "source": [
    "## Extract all unique keywords for comparison"
   ]
  },
  {
   "cell_type": "code",
   "execution_count": 7,
   "id": "eea558d6",
   "metadata": {},
   "outputs": [
    {
     "name": "stdout",
     "output_type": "stream",
     "text": [
      "Total unique keywords: 652\n"
     ]
    }
   ],
   "source": [
    "unique_keywords = set()\n",
    "for kw_list in df[\"keywords\"]:\n",
    "    keywords = [kw.strip() for kw in kw_list.split(\",\") if kw.strip()]\n",
    "    unique_keywords.update(keywords)\n",
    "\n",
    "print(f\"Total unique keywords: {len(unique_keywords)}\")"
   ]
  },
  {
   "cell_type": "markdown",
   "id": "aa1999fa",
   "metadata": {},
   "source": [
    "## Function to get the closest match by Levenshtein distance"
   ]
  },
  {
   "cell_type": "code",
   "execution_count": 8,
   "id": "354a5a16",
   "metadata": {},
   "outputs": [],
   "source": [
    "def closest_keyword(query):\n",
    "    query = query.strip()\n",
    "    distances = [(kw, Levenshtein.distance(query, kw)) for kw in unique_keywords]\n",
    "    closest = sorted(distances, key=lambda x: x[1])[0] if distances else (query, 0)\n",
    "    return closest"
   ]
  },
  {
   "cell_type": "code",
   "execution_count": 9,
   "id": "2e5f3cb8",
   "metadata": {},
   "outputs": [
    {
     "name": "stdout",
     "output_type": "stream",
     "text": [
      "User query: repot\n",
      "Closest match: report (distance: 1)\n"
     ]
    }
   ],
   "source": [
    "# Example: simulate typo\n",
    "typo = \"repot\"\n",
    "suggested_keyword, distance = closest_keyword(typo)\n",
    "print(f\"User query: {typo}\\nClosest match: {suggested_keyword} (distance: {distance})\")"
   ]
  },
  {
   "cell_type": "markdown",
   "id": "d5717534",
   "metadata": {},
   "source": [
    "## Perform search using the corrected keyword"
   ]
  },
  {
   "cell_type": "code",
   "execution_count": 10,
   "id": "cb6bc3b7",
   "metadata": {},
   "outputs": [
    {
     "name": "stdout",
     "output_type": "stream",
     "text": [
      "Searching with corrected keyword: 'report' (distance: 1)\n"
     ]
    },
    {
     "data": {
      "text/html": [
       "<div>\n",
       "<style scoped>\n",
       "    .dataframe tbody tr th:only-of-type {\n",
       "        vertical-align: middle;\n",
       "    }\n",
       "\n",
       "    .dataframe tbody tr th {\n",
       "        vertical-align: top;\n",
       "    }\n",
       "\n",
       "    .dataframe thead th {\n",
       "        text-align: right;\n",
       "    }\n",
       "</style>\n",
       "<table border=\"1\" class=\"dataframe\">\n",
       "  <thead>\n",
       "    <tr style=\"text-align: right;\">\n",
       "      <th></th>\n",
       "      <th>ID Data Product</th>\n",
       "      <th>Report Name</th>\n",
       "      <th>Report View</th>\n",
       "      <th>Tags</th>\n",
       "      <th>keywords</th>\n",
       "    </tr>\n",
       "  </thead>\n",
       "  <tbody>\n",
       "    <tr>\n",
       "      <th>39</th>\n",
       "      <td>RPPBI0004</td>\n",
       "      <td>eCommerce Report 2024</td>\n",
       "      <td>B2B Digital Report</td>\n",
       "      <td>B2B Digital</td>\n",
       "      <td>2024, b2b, digital, ecommerce, report</td>\n",
       "    </tr>\n",
       "    <tr>\n",
       "      <th>40</th>\n",
       "      <td>RPPBI0004</td>\n",
       "      <td>eCommerce Report 2024</td>\n",
       "      <td>Database Browser</td>\n",
       "      <td></td>\n",
       "      <td>2024, browser, database, ecommerce, report</td>\n",
       "    </tr>\n",
       "    <tr>\n",
       "      <th>41</th>\n",
       "      <td>RPPBI0004</td>\n",
       "      <td>eCommerce Report 2024</td>\n",
       "      <td>Database Browser (Creation Date)</td>\n",
       "      <td></td>\n",
       "      <td>2024, browser, creation, database, date, ecomm...</td>\n",
       "    </tr>\n",
       "    <tr>\n",
       "      <th>42</th>\n",
       "      <td>RPPBI0004</td>\n",
       "      <td>eCommerce Report 2024</td>\n",
       "      <td>Digital By Creation Date Performance Report</td>\n",
       "      <td>Performance, Digital</td>\n",
       "      <td>2024, creation, date, digital, ecommerce, perf...</td>\n",
       "    </tr>\n",
       "    <tr>\n",
       "      <th>43</th>\n",
       "      <td>RPPBI0004</td>\n",
       "      <td>eCommerce Report 2024</td>\n",
       "      <td>Digital Performance (Stay Date)</td>\n",
       "      <td>Performance, Digital</td>\n",
       "      <td>2024, date, digital, ecommerce, performance, r...</td>\n",
       "    </tr>\n",
       "  </tbody>\n",
       "</table>\n",
       "</div>"
      ],
      "text/plain": [
       "   ID Data Product            Report Name  \\\n",
       "39       RPPBI0004  eCommerce Report 2024   \n",
       "40       RPPBI0004  eCommerce Report 2024   \n",
       "41       RPPBI0004  eCommerce Report 2024   \n",
       "42       RPPBI0004  eCommerce Report 2024   \n",
       "43       RPPBI0004  eCommerce Report 2024   \n",
       "\n",
       "                                    Report View                  Tags  \\\n",
       "39                           B2B Digital Report           B2B Digital   \n",
       "40                             Database Browser                         \n",
       "41             Database Browser (Creation Date)                         \n",
       "42  Digital By Creation Date Performance Report  Performance, Digital   \n",
       "43              Digital Performance (Stay Date)  Performance, Digital   \n",
       "\n",
       "                                             keywords  \n",
       "39              2024, b2b, digital, ecommerce, report  \n",
       "40         2024, browser, database, ecommerce, report  \n",
       "41  2024, browser, creation, database, date, ecomm...  \n",
       "42  2024, creation, date, digital, ecommerce, perf...  \n",
       "43  2024, date, digital, ecommerce, performance, r...  "
      ]
     },
     "execution_count": 10,
     "metadata": {},
     "output_type": "execute_result"
    }
   ],
   "source": [
    "def search_by_corrected_keyword(query):\n",
    "    corrected, dist = closest_keyword(query)\n",
    "    matches = df[df[\"keywords\"].str.split(\",\").apply(lambda kws: corrected in [k.strip() for k in kws])]\n",
    "    return corrected, dist, matches\n",
    "\n",
    "# Try a search\n",
    "corrected, dist, result_df = search_by_corrected_keyword(\"repot\")\n",
    "print(f\"Searching with corrected keyword: '{corrected}' (distance: {dist})\")\n",
    "result_df.head()"
   ]
  }
 ],
 "metadata": {
  "kernelspec": {
   "display_name": ".venv",
   "language": "python",
   "name": "python3"
  },
  "language_info": {
   "codemirror_mode": {
    "name": "ipython",
    "version": 3
   },
   "file_extension": ".py",
   "mimetype": "text/x-python",
   "name": "python",
   "nbconvert_exporter": "python",
   "pygments_lexer": "ipython3",
   "version": "3.9.1"
  }
 },
 "nbformat": 4,
 "nbformat_minor": 5
}
