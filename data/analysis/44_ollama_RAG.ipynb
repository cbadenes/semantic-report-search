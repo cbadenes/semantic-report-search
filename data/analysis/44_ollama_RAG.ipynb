{
 "cells": [
  {
   "cell_type": "markdown",
   "id": "3be57954",
   "metadata": {},
   "source": [
    "# RAG based on Ollama framework"
   ]
  },
  {
   "cell_type": "code",
   "execution_count": null,
   "id": "809410d6",
   "metadata": {},
   "outputs": [],
   "source": [
    "# STEP 1: Install required packages\n",
    "# !pip install langchain langchain_community langchain_ollama sentence_transformers chromadb pandas openpyxl tiktoken langchain_huggingface"
   ]
  },
  {
   "cell_type": "code",
   "execution_count": null,
   "id": "51459843",
   "metadata": {},
   "outputs": [
    {
     "data": {
      "text/html": [
       "<div>\n",
       "<style scoped>\n",
       "    .dataframe tbody tr th:only-of-type {\n",
       "        vertical-align: middle;\n",
       "    }\n",
       "\n",
       "    .dataframe tbody tr th {\n",
       "        vertical-align: top;\n",
       "    }\n",
       "\n",
       "    .dataframe thead th {\n",
       "        text-align: right;\n",
       "    }\n",
       "</style>\n",
       "<table border=\"1\" class=\"dataframe\">\n",
       "  <thead>\n",
       "    <tr style=\"text-align: right;\">\n",
       "      <th></th>\n",
       "      <th>ID Data Product</th>\n",
       "      <th>Report Name</th>\n",
       "      <th>Product Owner</th>\n",
       "      <th>PBIX_File</th>\n",
       "      <th>Report View</th>\n",
       "      <th>Description</th>\n",
       "      <th>Category</th>\n",
       "      <th>Status</th>\n",
       "      <th>Rename</th>\n",
       "      <th>Dimensions</th>\n",
       "      <th>KPIs</th>\n",
       "      <th>Other Terms</th>\n",
       "      <th>Filters</th>\n",
       "      <th>Tags</th>\n",
       "      <th>Priority</th>\n",
       "    </tr>\n",
       "  </thead>\n",
       "  <tbody>\n",
       "    <tr>\n",
       "      <th>0</th>\n",
       "      <td>RPPBI0032</td>\n",
       "      <td>Feeder Market - 2024</td>\n",
       "      <td>Jonathan Shields</td>\n",
       "      <td>LifeReport.pbix</td>\n",
       "      <td>CRITERIA</td>\n",
       "      <td>Methodolody and definition of the algorithim o...</td>\n",
       "      <td>Informative</td>\n",
       "      <td>Productive</td>\n",
       "      <td>NaN</td>\n",
       "      <td>NaN</td>\n",
       "      <td>NaN</td>\n",
       "      <td>NaN</td>\n",
       "      <td>NaN</td>\n",
       "      <td>NaN</td>\n",
       "      <td>Priority 1</td>\n",
       "    </tr>\n",
       "    <tr>\n",
       "      <th>1</th>\n",
       "      <td>RPPBI0032</td>\n",
       "      <td>Feeder Market - 2024</td>\n",
       "      <td>Jonathan Shields</td>\n",
       "      <td>LifeReport.pbix</td>\n",
       "      <td>DESTINATION_OF_FEEDER_MARKETS</td>\n",
       "      <td>View focused on understand the performance by ...</td>\n",
       "      <td>Functional</td>\n",
       "      <td>Productive</td>\n",
       "      <td>NaN</td>\n",
       "      <td>Hotel, month, Feeder Market, Segment, Channel ...</td>\n",
       "      <td>Total Revenue, Room Revenue, RN, Lead Time, Le...</td>\n",
       "      <td>NaN</td>\n",
       "      <td>NaN</td>\n",
       "      <td>NaN</td>\n",
       "      <td>Priority 1</td>\n",
       "    </tr>\n",
       "    <tr>\n",
       "      <th>2</th>\n",
       "      <td>RPPBI0032</td>\n",
       "      <td>Feeder Market - 2024</td>\n",
       "      <td>Jonathan Shields</td>\n",
       "      <td>LifeReport.pbix</td>\n",
       "      <td>EXECUTIVE VIEW</td>\n",
       "      <td>Global view to understand Feeder Market Perfor...</td>\n",
       "      <td>Executive</td>\n",
       "      <td>Productive</td>\n",
       "      <td>NaN</td>\n",
       "      <td>Hotel, month, Feeder Market, Segment, Channel ...</td>\n",
       "      <td>Total Revenue, Room Revenue, RN, Lead Time, Le...</td>\n",
       "      <td>NaN</td>\n",
       "      <td>NaN</td>\n",
       "      <td>NaN</td>\n",
       "      <td>Priority 1</td>\n",
       "    </tr>\n",
       "    <tr>\n",
       "      <th>3</th>\n",
       "      <td>RPPBI0032</td>\n",
       "      <td>Feeder Market - 2024</td>\n",
       "      <td>Jonathan Shields</td>\n",
       "      <td>LifeReport.pbix</td>\n",
       "      <td>FEEDER MARKET FLOWS</td>\n",
       "      <td>View focused on understanding the booking beha...</td>\n",
       "      <td>Functional</td>\n",
       "      <td>Productive</td>\n",
       "      <td>NaN</td>\n",
       "      <td>Hotel, month, Feeder Market, Segment, Channel ...</td>\n",
       "      <td>Total Revenue, Room Revenue, RN, Lead Time, Le...</td>\n",
       "      <td>NaN</td>\n",
       "      <td>NaN</td>\n",
       "      <td>NaN</td>\n",
       "      <td>Priority 1</td>\n",
       "    </tr>\n",
       "    <tr>\n",
       "      <th>4</th>\n",
       "      <td>RPPBI0032</td>\n",
       "      <td>Feeder Market - 2024</td>\n",
       "      <td>Jonathan Shields</td>\n",
       "      <td>LifeReport.pbix</td>\n",
       "      <td>FEEDER_MARKET_DETAIL</td>\n",
       "      <td>Detail view of Feeder Markets by Destination i...</td>\n",
       "      <td>Functional</td>\n",
       "      <td>Productive</td>\n",
       "      <td>NaN</td>\n",
       "      <td>Hotel, month, Feeder Market, Segment, Channel ...</td>\n",
       "      <td>Total Revenue, Room Revenue, RN, Lead Time, Le...</td>\n",
       "      <td>NaN</td>\n",
       "      <td>NaN</td>\n",
       "      <td>NaN</td>\n",
       "      <td>Priority 1</td>\n",
       "    </tr>\n",
       "  </tbody>\n",
       "</table>\n",
       "</div>"
      ],
      "text/plain": [
       "  ID Data Product           Report Name     Product Owner        PBIX_File  \\\n",
       "0       RPPBI0032  Feeder Market - 2024  Jonathan Shields  LifeReport.pbix   \n",
       "1       RPPBI0032  Feeder Market - 2024  Jonathan Shields  LifeReport.pbix   \n",
       "2       RPPBI0032  Feeder Market - 2024  Jonathan Shields  LifeReport.pbix   \n",
       "3       RPPBI0032  Feeder Market - 2024  Jonathan Shields  LifeReport.pbix   \n",
       "4       RPPBI0032  Feeder Market - 2024  Jonathan Shields  LifeReport.pbix   \n",
       "\n",
       "                     Report View  \\\n",
       "0                       CRITERIA   \n",
       "1  DESTINATION_OF_FEEDER_MARKETS   \n",
       "2                 EXECUTIVE VIEW   \n",
       "3            FEEDER MARKET FLOWS   \n",
       "4           FEEDER_MARKET_DETAIL   \n",
       "\n",
       "                                         Description     Category      Status  \\\n",
       "0  Methodolody and definition of the algorithim o...  Informative  Productive   \n",
       "1  View focused on understand the performance by ...   Functional  Productive   \n",
       "2  Global view to understand Feeder Market Perfor...    Executive  Productive   \n",
       "3  View focused on understanding the booking beha...   Functional  Productive   \n",
       "4  Detail view of Feeder Markets by Destination i...   Functional  Productive   \n",
       "\n",
       "  Rename                                         Dimensions  \\\n",
       "0    NaN                                                NaN   \n",
       "1    NaN  Hotel, month, Feeder Market, Segment, Channel ...   \n",
       "2    NaN  Hotel, month, Feeder Market, Segment, Channel ...   \n",
       "3    NaN  Hotel, month, Feeder Market, Segment, Channel ...   \n",
       "4    NaN  Hotel, month, Feeder Market, Segment, Channel ...   \n",
       "\n",
       "                                                KPIs Other Terms Filters Tags  \\\n",
       "0                                                NaN         NaN     NaN  NaN   \n",
       "1  Total Revenue, Room Revenue, RN, Lead Time, Le...         NaN     NaN  NaN   \n",
       "2  Total Revenue, Room Revenue, RN, Lead Time, Le...         NaN     NaN  NaN   \n",
       "3  Total Revenue, Room Revenue, RN, Lead Time, Le...         NaN     NaN  NaN   \n",
       "4  Total Revenue, Room Revenue, RN, Lead Time, Le...         NaN     NaN  NaN   \n",
       "\n",
       "     Priority  \n",
       "0  Priority 1  \n",
       "1  Priority 1  \n",
       "2  Priority 1  \n",
       "3  Priority 1  \n",
       "4  Priority 1  "
      ]
     },
     "execution_count": 19,
     "metadata": {},
     "output_type": "execute_result"
    }
   ],
   "source": [
    "from IPython.display import Markdown, display# STEP 2: Load the Excel file and select the \"Views\" sheet\n",
    "import pandas as pd\n",
    "\n",
    "df = pd.read_excel(\"../raw/Reporting_Inventory.xlsx\", sheet_name=\"Views\")\n",
    "df.head()\n"
   ]
  },
  {
   "cell_type": "code",
   "execution_count": 77,
   "id": "d06fffa8",
   "metadata": {},
   "outputs": [
    {
     "name": "stdout",
     "output_type": "stream",
     "text": [
      "1486 documents created.\n",
      "Document:\n",
      " page_content='ID Data Product: RPPBI0032\n",
      "Report Name: Feeder Market - 2024\n",
      "Product Owner: Jonathan Shields\n",
      "PBIX_File: LifeReport.pbix\n",
      "Report View: CRITERIA\n",
      "Description: Methodolody and definition of the algorithim of Feeder Market\n",
      "Category: Informative\n",
      "Status: Productive\n",
      "Priority: Priority 1'\n"
     ]
    }
   ],
   "source": [
    "# Step 3: Convert rows to LangChain Documents\n",
    "from langchain.schema import Document\n",
    "\n",
    "def row_to_document(row):\n",
    "    content = \"\\n\".join([f\"{col}: {row[col]}\" for col in row.index if pd.notnull(row[col])])\n",
    "    return Document(page_content=content)\n",
    "\n",
    "documents = [row_to_document(row) for _, row in df.iterrows()]\n",
    "print(f\"{len(documents)} documents created.\")\n",
    "print(\"Document:\\n\", documents[0])"
   ]
  },
  {
   "cell_type": "code",
   "execution_count": 78,
   "id": "2f569d7f",
   "metadata": {},
   "outputs": [],
   "source": [
    "# from huggingface_hub import login\n",
    "# login(token=\"hf_xxx...\")\n",
    "\n",
    "# Step 4: Embed documents using a local embedding model (default: huggingface-based)\n",
    "from langchain_huggingface import HuggingFaceEmbeddings\n",
    "\n",
    "# You can change the model to another one like 'sentence-transformers/all-MiniLM-L6-v2'\n",
    "embedding_model = HuggingFaceEmbeddings(model_name=\"sentence-transformers/all-MiniLM-L6-v2\")"
   ]
  },
  {
   "cell_type": "code",
   "execution_count": 84,
   "id": "019e9c92",
   "metadata": {},
   "outputs": [
    {
     "name": "stdout",
     "output_type": "stream",
     "text": [
      "Chroma contains 1486 documents.\n"
     ]
    }
   ],
   "source": [
    "# STEP 5: Store embeddings in Chroma (no compilation needed)\n",
    "from langchain.vectorstores import Chroma\n",
    "import uuid\n",
    "\n",
    "collection_id = f\"tmp_{uuid.uuid4().hex}\"\n",
    "\n",
    "vectorstore = Chroma.from_documents(\n",
    "    documents,\n",
    "    embedding_model,\n",
    "    collection_name=collection_id,\n",
    "    persist_directory=None\n",
    ")\n",
    "retriever = vectorstore.as_retriever(search_type=\"similarity\", search_kwargs={\"k\": 4})\n",
    "\n",
    "num_docs = vectorstore._collection.count()\n",
    "print(f\"Chroma contains {num_docs} documents.\")"
   ]
  },
  {
   "cell_type": "code",
   "execution_count": 85,
   "id": "4c18b0ef",
   "metadata": {},
   "outputs": [],
   "source": [
    "# STEP 6: Connect to local Ollama model\n",
    "from langchain_ollama import ChatOllama\n",
    "\n",
    "llm = ChatOllama(\n",
    "    model=\"llama3.1:8b\",   # Model name (must be available in Ollama) (mistral, llama3.1, etc.)\n",
    "    temperature=0.3,       # Controls randomness. Lower = more deterministic. 0.0–1.0 typical.\n",
    "    top_p=0.8,             # Nucleus sampling: chooses tokens from the top cumulative probability p. Use ≤ 1.0.\n",
    "    top_k=40,              # Limits token selection to top k most likely. Lower = safer, higher = more diverse.\n",
    "    num_ctx=2048,          # Maximum context window (prompt + response). Must not exceed model limit.\n",
    "    stop=[\"User:\"],        # List of string(s) that, when generated, stop the output. Useful for structured outputs.\n",
    "    repeat_penalty=1.2,    # Penalizes repetition. Values >1 discourage repeated tokens.\n",
    "    presence_penalty=0.1,  # Encourages new topics. Higher = more novel responses.\n",
    "    frequency_penalty=0.1, # Penalizes repeated phrases.\n",
    "    max_tokens=512,        # Max tokens in generated output. Useful to limit long responses.\n",
    "    base_url=\"http://localhost:11434\"  # URL of Ollama server\n",
    ")\n"
   ]
  },
  {
   "cell_type": "code",
   "execution_count": 86,
   "id": "4c0fbd84",
   "metadata": {},
   "outputs": [],
   "source": [
    "# STEP 7: Create RAG chain with explicit prompt\n",
    "from langchain.chains import RetrievalQA\n",
    "from langchain.prompts import PromptTemplate\n",
    "\n",
    "prompt_template = \"\"\"You are an assistant helping analyze reporting views in a hotel system.\n",
    "\n",
    "Use the context below to answer the question accurately and completely.\n",
    "\n",
    "Context:\n",
    "{context}\n",
    "\n",
    "Question: {question}\n",
    "Answer:\"\"\"\n",
    "\n",
    "prompt = PromptTemplate(\n",
    "    input_variables=[\"context\", \"question\"],\n",
    "    template=prompt_template,\n",
    ")\n",
    "\n",
    "# llm: This is your language model (LLM) used to generate the final answer.\n",
    "# retriever: The retrieval component responsible for finding the most relevant documents based on the query.\n",
    "# chain_type: Defines how the retrieved documents are processed before being passed to the LLM.\n",
    "#   Options: \"stuff\", \"map_reduce\", \"refine\", \"map_rerank\"\n",
    "#     \"map_reduce\" → splits docs, processes them separately, combines the outputs.\n",
    "#     \"refine\" → generates initial answer and refines it with each doc.\n",
    "#     \"map_rerank\" → scores individual answers and picks the best one. \n",
    "qa_chain = RetrievalQA.from_chain_type(\n",
    "    llm=llm,              \n",
    "    retriever=retriever,  \n",
    "    chain_type=\"stuff\",   \n",
    "    chain_type_kwargs={\"prompt\": prompt} \n",
    ")\n"
   ]
  },
  {
   "cell_type": "code",
   "execution_count": 87,
   "id": "28ccb0ba",
   "metadata": {},
   "outputs": [
    {
     "data": {
      "text/markdown": [
       "Based on the context provided, I can identify two report views that appear to be designed to support strategic decision-making:\n",
       "\n",
       "1. **Revenue Optimizer 2.0** (Report View in RPPBI0016): This view is described as an \"Advanced analytics page\" that provides insights into how competitors are performing versus your hotel chain across various metrics such as quality online reputation, revenue performance, occupancy, price, and profitability. The report also includes recommendation strategies based on improvement opportunities.\n",
       "2. **REDACED EUAM Summary 2025** (Report View in TLPBI0010): This executive view is designed to analyze business from different perspectives: Business Development (+Airlines & Leisure), OTAs, Unmanaged & Direct Business. It provides a special focus on Managed Business and its KPIs, including Commercial Team, Company Cost & Cost Over Sales.\n",
       "\n",
       "Both of these views seem to be geared towards supporting strategic decision-making by providing high-level insights into business performance and opportunities for improvement."
      ],
      "text/plain": [
       "<IPython.core.display.Markdown object>"
      ]
     },
     "metadata": {},
     "output_type": "display_data"
    }
   ],
   "source": [
    "# STEP 8: Ask your question\n",
    "query = \"Which views are designed to support strategic decision-making?\"\n",
    "response = qa_chain.invoke({\"query\": query})\n",
    "\n",
    "display(Markdown(response[\"result\"]))\n"
   ]
  },
  {
   "cell_type": "code",
   "execution_count": 66,
   "id": "7cd7eccf",
   "metadata": {},
   "outputs": [
    {
     "data": {
      "text/markdown": [
       "Based on the provided context, I can group the available views into the following categories based on their primary data domains:\n",
       "\n",
       "**Distribution and Revenue**\n",
       "\n",
       "* Distribution NET Report - 2025 (Dynamic): Analyzes intermediaries' monthly performance & evolution by KPI dynamically\n",
       "* Distribution NET Report - 2025 (Static): Analyzes intermediaries' monthly performance & evolution by KPI statically\n",
       "\n",
       "These views are related to distribution revenue, focusing on the performance and evolution of intermediaries.\n",
       "\n",
       "**eCommerce**\n",
       "\n",
       "* eCommerce Report 2022: Offers a vision of reservation behavior with specific KPIs such as Lead Time, Lenght of Stay, AOV or Cancellation Rate\n",
       "* eCommerce Report 2023: Similar to the previous report but for different years (2023)\n",
       "* eCommerce Report 2024: Analyzes reservation behavior and provides insights into various KPIs like Total Revenue, Room Revenue, F&B Revenue, etc.\n",
       "* eCommerce Report 2025: The latest version of the eCommerce report series\n",
       "\n",
       "These views are related to online sales and revenue generated through e-commerce channels.\n",
       "\n",
       "**Data Governance**\n",
       "\n",
       "* Data Governance Adoption Dashboard (Datamap): Shows a summary of total terms by area & domain\n",
       "This view is focused on data governance, providing insights into adoption rates across different areas and domains.\n",
       "\n",
       "**Revenue Management**\n",
       "\n",
       "* Weekly Revenue Report 2025: Provides detailed information about revenue management with customizable tables featuring over 15 KPIs\n",
       "\n",
       "These views are related to revenue management within the organization, focusing on various aspects of revenue generation and analysis.\n",
       "\n",
       "Note that some reports may overlap between categories or have multiple primary data domains. However, based on their descriptions, I've grouped them into these main categories for simplicity and clarity."
      ],
      "text/plain": [
       "<IPython.core.display.Markdown object>"
      ]
     },
     "metadata": {},
     "output_type": "display_data"
    }
   ],
   "source": [
    "# STEP 8: Ask your question\n",
    "query = \"Group the available views by their primary data domains.\"\n",
    "response = qa_chain.invoke({\"query\": query})\n",
    "\n",
    "display(Markdown(response[\"result\"]))\n"
   ]
  },
  {
   "cell_type": "code",
   "execution_count": 67,
   "id": "3999aa5d",
   "metadata": {},
   "outputs": [
    {
     "data": {
      "text/markdown": [
       "After analyzing the provided context, I would suggest merging the following three existing views into one consolidated view:\n",
       "\n",
       "**Daily Revenue Report 2025 (OTB vs SPIT Summary)** from ID Data Product RPPBI0173\n",
       "**Weekly Revenue Report 2025 (Property View)** from ID Data Product TLPBI0024 is not relevant here as it has different dimensions and KPIs, so I will exclude this one.\n",
       "and **Daily Key Metrics (2.Taskforce)** from ID Data Product RPPBI0076\n",
       "\n",
       "I would merge these three views because they share similar characteristics:\n",
       "\n",
       "1.  They are all functional reports focused on revenue analysis.\n",
       "2.  Each view has a mix of KPIs and dimensions that can be combined to provide a comprehensive understanding of hotel performance.\n",
       "\n",
       "The consolidated view, which I'll call **Consolidated Revenue Analysis**, would include the following features:\n",
       "\n",
       "*   Dimensions: Hotel; Month; Segment; Channel\n",
       "*   KPIs:\n",
       "    *   Total Revenue (from Daily Revenue Report 2025)\n",
       "    *   Room Revenue (from Weekly Revenue Report 2025 is not relevant here, so I will exclude this one.)\n",
       "    *   Incoming Calls and Conversion Rate metrics from CRO Daily Key Metrics\n",
       "\n",
       "This consolidated view would provide a detailed analysis of hotel revenue performance across different segments, channels, and time periods. It would also include key metrics for conversion rate and incoming calls to give a comprehensive understanding of the business.\n",
       "\n",
       "The filters available in each individual report could be combined or modified as needed to ensure that users can easily drill down into specific data points while maintaining an overall view of revenue performance across different segments and channels"
      ],
      "text/plain": [
       "<IPython.core.display.Markdown object>"
      ]
     },
     "metadata": {},
     "output_type": "display_data"
    }
   ],
   "source": [
    "# STEP 8: Ask your question\n",
    "query = \"If you had to design a new consolidated view, which existing views would you merge and why?\"\n",
    "response = qa_chain.invoke({\"query\": query})\n",
    "\n",
    "display(Markdown(response[\"result\"]))\n"
   ]
  },
  {
   "cell_type": "code",
   "execution_count": 68,
   "id": "53e1ae38",
   "metadata": {},
   "outputs": [
    {
     "data": {
      "text/markdown": [
       "Based on the provided context, I can identify two types of reports:\n",
       "\n",
       "**Operational Management Reports**\n",
       "\n",
       "These reports focus on business operations and performance. They provide insights into how to manage day-to-day activities.\n",
       "\n",
       "* ID Data Product: RPPBI0173 - Daily Revenue Report 2025 (Report View: Executive Summary) - This report provides a summary of the most important information in the daily revenue.\n",
       "* ID Data Product: TLPBI0026 and TLPBI0027 - Commercial Efficiency Model & Mastertools - BUNE and BUSE reports, respectively. Although they are focused on commercial efficiency, their views (REDACTED EUAM Summary) seem to provide operational insights.\n",
       "\n",
       "**Financial Management Reports**\n",
       "\n",
       "These reports focus on financial performance and management. They provide insights into how the business is performing financially.\n",
       "\n",
       "* ID Data Product: RPPBI0168 - Budget 2025 Report (Report View: Other Revenues Detail) - This report provides a detailed view of other revenues assignation by segment to budget, compared to the previous year.\n",
       "* ID Data Product: TLPBI0010 and TLPBI0026/27 are also focused on commercial efficiency but their views seem more related to financial management (Commercial Team, Company Cost & Cost Over Sales).\n",
       "* ID Data Product: RPPBI0173 - Daily Revenue Report 2025 (Report View: Auto FC vs Budget & Official FC) - This report provides information about the auto forecast in contrast to budget and official figures.\n",
       "* ID Data Product: TLPBI0028 is an older version of a commercial efficiency model, but its view seems more focused on financial management.\n",
       "\n",
       "However, if I had to choose reports that are specifically designed for operational versus financial management:\n",
       "\n",
       "**Operational Management Reports**\n",
       "\n",
       "ID Data Product: RPPBI0173 - Daily Revenue Report 2025 (Report View: Executive Summary)\n",
       "\n",
       "**Financial Management Reports**\n",
       "\n",
       "* ID Data Product: TLPBI0026 and TLPBI0027 - Commercial Efficiency Model & Mastertools - BUNE and BUSE reports, respectively."
      ],
      "text/plain": [
       "<IPython.core.display.Markdown object>"
      ]
     },
     "metadata": {},
     "output_type": "display_data"
    }
   ],
   "source": [
    "# STEP 8: Ask your question\n",
    "query = \"What are the reporting views that support operational versus financial management?\"\n",
    "response = qa_chain.invoke({\"query\": query})\n",
    "display(Markdown(response[\"result\"]))\n"
   ]
  },
  {
   "cell_type": "code",
   "execution_count": 88,
   "id": "1038f0e9",
   "metadata": {},
   "outputs": [
    {
     "name": "stdout",
     "output_type": "stream",
     "text": [
      "\n",
      "--- Rank 1 | Score: 1.0483 ---\n",
      "\n",
      "ID Data Product: RPPBI0173\n",
      "Report Name: Daily Revenue Report 2025\n",
      "Product Owner: Tasha Hall\n",
      "PBIX_File: AboutReport.pbix\n",
      "Report View: Executive Summary\n",
      "Description: It is the main page of the report, where its aim is to summarize as much as possible the most important information in the report. The view is only at Total Revenue and Month level. Includes essential information from Daily Pick Up, Weekly Pick Up, Forecast, Budget, Auto Forecast and Dummy Forecast. Also, it contains information of Bu\n",
      "\n",
      "--- Rank 2 | Score: 1.0851 ---\n",
      "\n",
      "ID Data Product: RPPBI0168\n",
      "Report Name: Budget 2025 Report\n",
      "Product Owner: Jonathan Shields\n",
      "PBIX_File: AndReport.pbix\n",
      "Report View: Other Revenues Detail\n",
      "Description: Page focused on showing the Other Revenues assignation by segment to budget, compared to the previous year\n",
      "Category: Executive\n",
      "Status: Productive\n",
      "Dimensions: Hotel, Month, Segment\n",
      "KPIs:  Room Nights, ADR, Room Revenue, Breakfast, F&B, Events Revenues, Other Revenues, Total Revenue\n",
      "Other Terms: Non Hosted Revenues\n",
      "Priority: Priority 2\n",
      "\n",
      "--- Rank 3 | Score: 1.1338 ---\n",
      "\n",
      "ID Data Product: RPPBI0170\n",
      "Report Name: Hotel Benchmark Report\n",
      "Product Owner: Jason Moore\n",
      "PBIX_File: AreaReport.pbix\n",
      "Report View: Commercial Approach\n",
      "Description: Detailed page of a commercial approach of the financial P&L, including segments.\n",
      "Category: Functional\n",
      "Status: Productive\n",
      "Dimensions: Region, BU, SubBU, Country, City, Hotel, OPS Regional, Brand, Stars, Quality Team, Date, USALI, Department, Center of Cost, CECO, EFT\n",
      "KPIs: EBITDA, GOP, Revenues, Expenses, BPC Accounts, Drivers, Totals, \n",
      "\n",
      "--- Rank 4 | Score: 1.1432 ---\n",
      "\n",
      "ID Data Product: RPPBI0175\n",
      "Report Name: Weekly Revenue Report 2025\n",
      "Product Owner: David Gomez\n",
      "PBIX_File: RealReport.pbix\n",
      "Report View: Executive Summary\n",
      "Description: This page contains the most important weekly information from Revenue Management. Contains Pick Up alerts, Auto Forecast analytics, Forecast, Budget, LY and Dummy Forecast. In addition, it focuses on the monthly evolution of OTB vs SPIT and the tension of the weekly budget.\n",
      "Category: Executive\n",
      "Status: Productive\n",
      "Dimensions: Hotel;Mes\n",
      "\n",
      "--- Rank 5 | Score: 1.1464 ---\n",
      "\n",
      "ID Data Product: TLPBI0010\n",
      "Report Name: Commercial Efficiency Model & Mastertools\n",
      "Product Owner: Ronald Hall\n",
      "PBIX_File: PoorReport.pbix\n",
      "Report View: Mastertools 24 vs 25\n",
      "Description: Comparison between current year portfolios and next year's. Analysis by different perspectives: Management Type, Account Type, Country, Industry, Account Segmentation, C4C Activities & Account Handler\n",
      "Category: Functional\n",
      "Status: Productive\n",
      "Priority: Priority 2\n"
     ]
    }
   ],
   "source": [
    "# Analyze the retrieved documents and their scores\n",
    "query = \"What are the reporting views that support financial management?\"\n",
    "docs_with_scores = retriever.vectorstore.similarity_search_with_score(query, k=5)\n",
    "\n",
    "for i, (doc, score) in enumerate(docs_with_scores):\n",
    "    print(f\"\\n--- Rank {i+1} | Score: {score:.4f} ---\\n\")\n",
    "    print(doc.page_content[:500])\n"
   ]
  }
 ],
 "metadata": {
  "kernelspec": {
   "display_name": ".venv",
   "language": "python",
   "name": "python3"
  },
  "language_info": {
   "codemirror_mode": {
    "name": "ipython",
    "version": 3
   },
   "file_extension": ".py",
   "mimetype": "text/x-python",
   "name": "python",
   "nbconvert_exporter": "python",
   "pygments_lexer": "ipython3",
   "version": "3.9.16"
  }
 },
 "nbformat": 4,
 "nbformat_minor": 5
}
