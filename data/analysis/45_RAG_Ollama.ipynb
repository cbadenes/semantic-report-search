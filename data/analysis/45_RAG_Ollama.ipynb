{
 "cells": [
  {
   "cell_type": "markdown",
   "id": "3be57954",
   "metadata": {},
   "source": [
    "# RAG based on Ollama framework\n",
    "\n",
    "<a href=\"https://colab.research.google.com/github/cbadenes/semantic-report-search/blob/main/data/analysis/45_RAG_ollama.ipynb\" target=\"_parent\">\n",
    "  <img src=\"https://colab.research.google.com/assets/colab-badge.svg\" alt=\"Open in Colab\"/>\n",
    "</a>"
   ]
  },
  {
   "cell_type": "code",
   "execution_count": null,
   "id": "809410d6",
   "metadata": {},
   "outputs": [],
   "source": [
    "# STEP 1: Install required packages\n",
    "# !pip install langchain langchain_community langchain_ollama sentence_transformers chromadb pandas openpyxl tiktoken langchain_huggingface"
   ]
  },
  {
   "cell_type": "code",
   "execution_count": null,
   "id": "51459843",
   "metadata": {},
   "outputs": [
    {
     "data": {
      "text/html": [
       "<div>\n",
       "<style scoped>\n",
       "    .dataframe tbody tr th:only-of-type {\n",
       "        vertical-align: middle;\n",
       "    }\n",
       "\n",
       "    .dataframe tbody tr th {\n",
       "        vertical-align: top;\n",
       "    }\n",
       "\n",
       "    .dataframe thead th {\n",
       "        text-align: right;\n",
       "    }\n",
       "</style>\n",
       "<table border=\"1\" class=\"dataframe\">\n",
       "  <thead>\n",
       "    <tr style=\"text-align: right;\">\n",
       "      <th></th>\n",
       "      <th>ID Data Product</th>\n",
       "      <th>Report Name</th>\n",
       "      <th>Product Owner</th>\n",
       "      <th>PBIX_File</th>\n",
       "      <th>Report View</th>\n",
       "      <th>Description</th>\n",
       "      <th>Category</th>\n",
       "      <th>Status</th>\n",
       "      <th>Rename</th>\n",
       "      <th>Dimensions</th>\n",
       "      <th>KPIs</th>\n",
       "      <th>Other Terms</th>\n",
       "      <th>Filters</th>\n",
       "      <th>Tags</th>\n",
       "      <th>Priority</th>\n",
       "    </tr>\n",
       "  </thead>\n",
       "  <tbody>\n",
       "    <tr>\n",
       "      <th>0</th>\n",
       "      <td>RPPBI0032</td>\n",
       "      <td>Feeder Market - 2024</td>\n",
       "      <td>Jonathan Shields</td>\n",
       "      <td>LifeReport.pbix</td>\n",
       "      <td>CRITERIA</td>\n",
       "      <td>Methodolody and definition of the algorithim o...</td>\n",
       "      <td>Informative</td>\n",
       "      <td>Productive</td>\n",
       "      <td>NaN</td>\n",
       "      <td>NaN</td>\n",
       "      <td>NaN</td>\n",
       "      <td>NaN</td>\n",
       "      <td>NaN</td>\n",
       "      <td>NaN</td>\n",
       "      <td>Priority 1</td>\n",
       "    </tr>\n",
       "    <tr>\n",
       "      <th>1</th>\n",
       "      <td>RPPBI0032</td>\n",
       "      <td>Feeder Market - 2024</td>\n",
       "      <td>Jonathan Shields</td>\n",
       "      <td>LifeReport.pbix</td>\n",
       "      <td>DESTINATION_OF_FEEDER_MARKETS</td>\n",
       "      <td>View focused on understand the performance by ...</td>\n",
       "      <td>Functional</td>\n",
       "      <td>Productive</td>\n",
       "      <td>NaN</td>\n",
       "      <td>Hotel, month, Feeder Market, Segment, Channel ...</td>\n",
       "      <td>Total Revenue, Room Revenue, RN, Lead Time, Le...</td>\n",
       "      <td>NaN</td>\n",
       "      <td>NaN</td>\n",
       "      <td>NaN</td>\n",
       "      <td>Priority 1</td>\n",
       "    </tr>\n",
       "    <tr>\n",
       "      <th>2</th>\n",
       "      <td>RPPBI0032</td>\n",
       "      <td>Feeder Market - 2024</td>\n",
       "      <td>Jonathan Shields</td>\n",
       "      <td>LifeReport.pbix</td>\n",
       "      <td>EXECUTIVE VIEW</td>\n",
       "      <td>Global view to understand Feeder Market Perfor...</td>\n",
       "      <td>Executive</td>\n",
       "      <td>Productive</td>\n",
       "      <td>NaN</td>\n",
       "      <td>Hotel, month, Feeder Market, Segment, Channel ...</td>\n",
       "      <td>Total Revenue, Room Revenue, RN, Lead Time, Le...</td>\n",
       "      <td>NaN</td>\n",
       "      <td>NaN</td>\n",
       "      <td>NaN</td>\n",
       "      <td>Priority 1</td>\n",
       "    </tr>\n",
       "    <tr>\n",
       "      <th>3</th>\n",
       "      <td>RPPBI0032</td>\n",
       "      <td>Feeder Market - 2024</td>\n",
       "      <td>Jonathan Shields</td>\n",
       "      <td>LifeReport.pbix</td>\n",
       "      <td>FEEDER MARKET FLOWS</td>\n",
       "      <td>View focused on understanding the booking beha...</td>\n",
       "      <td>Functional</td>\n",
       "      <td>Productive</td>\n",
       "      <td>NaN</td>\n",
       "      <td>Hotel, month, Feeder Market, Segment, Channel ...</td>\n",
       "      <td>Total Revenue, Room Revenue, RN, Lead Time, Le...</td>\n",
       "      <td>NaN</td>\n",
       "      <td>NaN</td>\n",
       "      <td>NaN</td>\n",
       "      <td>Priority 1</td>\n",
       "    </tr>\n",
       "    <tr>\n",
       "      <th>4</th>\n",
       "      <td>RPPBI0032</td>\n",
       "      <td>Feeder Market - 2024</td>\n",
       "      <td>Jonathan Shields</td>\n",
       "      <td>LifeReport.pbix</td>\n",
       "      <td>FEEDER_MARKET_DETAIL</td>\n",
       "      <td>Detail view of Feeder Markets by Destination i...</td>\n",
       "      <td>Functional</td>\n",
       "      <td>Productive</td>\n",
       "      <td>NaN</td>\n",
       "      <td>Hotel, month, Feeder Market, Segment, Channel ...</td>\n",
       "      <td>Total Revenue, Room Revenue, RN, Lead Time, Le...</td>\n",
       "      <td>NaN</td>\n",
       "      <td>NaN</td>\n",
       "      <td>NaN</td>\n",
       "      <td>Priority 1</td>\n",
       "    </tr>\n",
       "  </tbody>\n",
       "</table>\n",
       "</div>"
      ],
      "text/plain": [
       "  ID Data Product           Report Name     Product Owner        PBIX_File  \\\n",
       "0       RPPBI0032  Feeder Market - 2024  Jonathan Shields  LifeReport.pbix   \n",
       "1       RPPBI0032  Feeder Market - 2024  Jonathan Shields  LifeReport.pbix   \n",
       "2       RPPBI0032  Feeder Market - 2024  Jonathan Shields  LifeReport.pbix   \n",
       "3       RPPBI0032  Feeder Market - 2024  Jonathan Shields  LifeReport.pbix   \n",
       "4       RPPBI0032  Feeder Market - 2024  Jonathan Shields  LifeReport.pbix   \n",
       "\n",
       "                     Report View  \\\n",
       "0                       CRITERIA   \n",
       "1  DESTINATION_OF_FEEDER_MARKETS   \n",
       "2                 EXECUTIVE VIEW   \n",
       "3            FEEDER MARKET FLOWS   \n",
       "4           FEEDER_MARKET_DETAIL   \n",
       "\n",
       "                                         Description     Category      Status  \\\n",
       "0  Methodolody and definition of the algorithim o...  Informative  Productive   \n",
       "1  View focused on understand the performance by ...   Functional  Productive   \n",
       "2  Global view to understand Feeder Market Perfor...    Executive  Productive   \n",
       "3  View focused on understanding the booking beha...   Functional  Productive   \n",
       "4  Detail view of Feeder Markets by Destination i...   Functional  Productive   \n",
       "\n",
       "  Rename                                         Dimensions  \\\n",
       "0    NaN                                                NaN   \n",
       "1    NaN  Hotel, month, Feeder Market, Segment, Channel ...   \n",
       "2    NaN  Hotel, month, Feeder Market, Segment, Channel ...   \n",
       "3    NaN  Hotel, month, Feeder Market, Segment, Channel ...   \n",
       "4    NaN  Hotel, month, Feeder Market, Segment, Channel ...   \n",
       "\n",
       "                                                KPIs Other Terms Filters Tags  \\\n",
       "0                                                NaN         NaN     NaN  NaN   \n",
       "1  Total Revenue, Room Revenue, RN, Lead Time, Le...         NaN     NaN  NaN   \n",
       "2  Total Revenue, Room Revenue, RN, Lead Time, Le...         NaN     NaN  NaN   \n",
       "3  Total Revenue, Room Revenue, RN, Lead Time, Le...         NaN     NaN  NaN   \n",
       "4  Total Revenue, Room Revenue, RN, Lead Time, Le...         NaN     NaN  NaN   \n",
       "\n",
       "     Priority  \n",
       "0  Priority 1  \n",
       "1  Priority 1  \n",
       "2  Priority 1  \n",
       "3  Priority 1  \n",
       "4  Priority 1  "
      ]
     },
     "execution_count": 19,
     "metadata": {},
     "output_type": "execute_result"
    }
   ],
   "source": [
    "from IPython.display import Markdown, display# STEP 2: Load the Excel file and select the \"Views\" sheet\n",
    "import pandas as pd\n",
    "\n",
    "df = pd.read_excel(\"../raw/Reporting_Inventory.xlsx\", sheet_name=\"Views\")\n",
    "df.head()\n"
   ]
  },
  {
   "cell_type": "code",
   "execution_count": 20,
   "id": "d06fffa8",
   "metadata": {},
   "outputs": [
    {
     "name": "stdout",
     "output_type": "stream",
     "text": [
      "1486 documents created.\n",
      "Document:\n",
      " page_content='ID Data Product: RPPBI0032\n",
      "Report Name: Feeder Market - 2024\n",
      "Product Owner: Jonathan Shields\n",
      "PBIX_File: LifeReport.pbix\n",
      "Report View: CRITERIA\n",
      "Description: Methodolody and definition of the algorithim of Feeder Market\n",
      "Category: Informative\n",
      "Status: Productive\n",
      "Priority: Priority 1'\n"
     ]
    }
   ],
   "source": [
    "# Step 3: Convert rows to LangChain Documents\n",
    "from langchain.schema import Document\n",
    "\n",
    "def row_to_document(row):\n",
    "    content = \"\\n\".join([f\"{col}: {row[col]}\" for col in row.index if pd.notnull(row[col])])\n",
    "    return Document(page_content=content)\n",
    "\n",
    "documents = [row_to_document(row) for _, row in df.iterrows()]\n",
    "print(f\"{len(documents)} documents created.\")\n",
    "print(\"Document:\\n\", documents[0])"
   ]
  },
  {
   "cell_type": "code",
   "execution_count": 21,
   "id": "2f569d7f",
   "metadata": {},
   "outputs": [],
   "source": [
    "# from huggingface_hub import login\n",
    "# login(token=\"hf_xxx...\")\n",
    "\n",
    "# Step 4: Embed documents using a local embedding model (default: huggingface-based)\n",
    "from langchain_huggingface import HuggingFaceEmbeddings\n",
    "\n",
    "# You can change the model to another one like 'sentence-transformers/all-MiniLM-L6-v2'\n",
    "embedding_model = HuggingFaceEmbeddings(model_name=\"sentence-transformers/all-MiniLM-L6-v2\")"
   ]
  },
  {
   "cell_type": "code",
   "execution_count": 27,
   "id": "019e9c92",
   "metadata": {},
   "outputs": [],
   "source": [
    "# STEP 5: Store embeddings in Chroma (no compilation needed)\n",
    "from langchain.vectorstores import Chroma\n",
    "\n",
    "vectorstore = Chroma.from_documents(documents, embedding_model)\n",
    "retriever = vectorstore.as_retriever(search_type=\"similarity\", search_kwargs={\"k\": 10})\n"
   ]
  },
  {
   "cell_type": "code",
   "execution_count": null,
   "id": "4c18b0ef",
   "metadata": {},
   "outputs": [],
   "source": [
    "# STEP 6: Connect to local Ollama model\n",
    "from langchain_ollama import ChatOllama\n",
    "\n",
    "llm = ChatOllama(\n",
    "    model=\"llama3.1:8b\",   # Model name (must be available in Ollama) (mistral, llama3.1, etc.)\n",
    "    temperature=0.3,       # Controls randomness. Lower = more deterministic. 0.0–1.0 typical.\n",
    "    top_p=0.8,             # Nucleus sampling: chooses tokens from the top cumulative probability p. Use ≤ 1.0.\n",
    "    top_k=40,              # Limits token selection to top k most likely. Lower = safer, higher = more diverse.\n",
    "    num_ctx=2048,          # Maximum context window (prompt + response). Must not exceed model limit.\n",
    "    stop=[\"User:\"],        # List of string(s) that, when generated, stop the output. Useful for structured outputs.\n",
    "    repeat_penalty=1.2,    # Penalizes repetition. Values >1 discourage repeated tokens.\n",
    "    presence_penalty=0.1,  # Encourages new topics. Higher = more novel responses.\n",
    "    frequency_penalty=0.1, # Penalizes repeated phrases.\n",
    "    max_tokens=512,        # Max tokens in generated output. Useful to limit long responses.\n",
    "    base_url=\"http://localhost:11434\"  # URL of Ollama server\n",
    ")\n"
   ]
  },
  {
   "cell_type": "code",
   "execution_count": 40,
   "id": "4c0fbd84",
   "metadata": {},
   "outputs": [],
   "source": [
    "# STEP 7: Create RAG chain with explicit prompt\n",
    "from langchain.chains import RetrievalQA\n",
    "from langchain.prompts import PromptTemplate\n",
    "\n",
    "prompt_template = \"\"\"You are an assistant helping analyze reporting views in a hotel system.\n",
    "\n",
    "Use the context below to answer the question accurately and completely.\n",
    "\n",
    "Context:\n",
    "{context}\n",
    "\n",
    "Question: {question}\n",
    "Answer:\"\"\"\n",
    "\n",
    "prompt = PromptTemplate(\n",
    "    input_variables=[\"context\", \"question\"],\n",
    "    template=prompt_template,\n",
    ")\n",
    "\n",
    "# llm: This is your language model (LLM) used to generate the final answer.\n",
    "# retriever: The retrieval component responsible for finding the most relevant documents based on the query.\n",
    "# chain_type: Defines how the retrieved documents are processed before being passed to the LLM.\n",
    "#   Options: \"stuff\", \"map_reduce\", \"refine\", \"map_rerank\"\n",
    "#     \"map_reduce\" → splits docs, processes them separately, combines the outputs.\n",
    "#     \"refine\" → generates initial answer and refines it with each doc.\n",
    "#     \"map_rerank\" → scores individual answers and picks the best one. \n",
    "qa_chain = RetrievalQA.from_chain_type(\n",
    "    llm=llm,              \n",
    "    retriever=retriever,  \n",
    "    chain_type=\"stuff\",   \n",
    "    chain_type_kwargs={\"prompt\": prompt} \n",
    ")\n"
   ]
  },
  {
   "cell_type": "code",
   "execution_count": 47,
   "id": "28ccb0ba",
   "metadata": {},
   "outputs": [
    {
     "data": {
      "text/markdown": [
       "Based on the context provided, I can identify two report views that appear to be designed to support strategic decision-making:\n",
       "\n",
       "1. **Revenue Optimizer 2.0** (Report View of ID Data Product RPPBI0016): This view is part of an \"Advanced Quality Report\" and has a high priority level (Priority 1). It provides advanced analytics on how competitors are performing versus the hotel in terms of quality online reputation, revenue performance, occupancy, price, and profitability. The report's description mentions that it offers recommendation strategies based on improvement opportunities.\n",
       "2. **REDACED EUAM Summary** (Report View of ID Data Product TLPBI0010): This view is part of a \"Commercial Efficiency Model & Mastertools\" report and has an executive category. It provides insights into business performance from different perspectives, with a focus on Managed Business and its KPIs.\n",
       "\n",
       "Both views seem to be designed for strategic decision-making by providing high-level analytics and recommendations that can inform business decisions at the hotel or corporate level.\n",
       "\n",
       "However, if I had to choose one view as being more directly focused on supporting strategic decision-making, it would be **Revenue Optimizer 2.0** (Report View of ID Data Product RPPBI0016). This is because its description explicitly mentions providing \"recommendation strategies based on improvement opportunities,\" which suggests a strong focus on informing business decisions and driving strategy.\n",
       "\n",
       "The other view, **REDACED EUAM Summary**, seems to be more focused on executive-level reporting and analysis, but it does not have the same level of strategic decision-making support as Revenue Optimizer 2.0."
      ],
      "text/plain": [
       "<IPython.core.display.Markdown object>"
      ]
     },
     "metadata": {},
     "output_type": "display_data"
    }
   ],
   "source": [
    "# STEP 8: Ask your question\n",
    "query = \"Which views are designed to support strategic decision-making?\"\n",
    "response = qa_chain.invoke({\"query\": query})\n",
    "\n",
    "display(Markdown(response[\"result\"]))\n"
   ]
  },
  {
   "cell_type": "code",
   "execution_count": 48,
   "id": "7cd7eccf",
   "metadata": {},
   "outputs": [
    {
     "data": {
      "text/markdown": [
       "After analyzing the provided information, I can group the available views into three categories based on their primary data domains:\n",
       "\n",
       "**Category 1: Hotel and Accommodation**\n",
       "\n",
       "* ID Data Product: RPPBI0104\n",
       "\t+ Report Name: eCommerce Report 2023\n",
       "\t+ View: Reservations Behaviour Report (Lead Time, Lenght of Stay, AOV or Cancellation Rate)\n",
       "\t+ Dimensions: Channel, Segment, Feeder Market, Stay Month, Agency Type, Hotel Name, Brand, etc.\n",
       "* ID Data Product: RPPBI0004\n",
       "\t+ Report Name: eCommerce Report 2024\n",
       "\t+ View: Reservations Behaviour Report (Lead Time, Lenght of Stay, AOV or Cancellation Rate)\n",
       "\t+ Dimensions: Channel, Segment, Feeder Market, Stay Month, Agency Type, Hotel Name, Brand, etc.\n",
       "\n",
       "**Category 2: E-commerce and Online Sales**\n",
       "\n",
       "* ID Data Product: RPPBI0104\n",
       "\t+ Report Name: eCommerce Report 2023 (same as above)\n",
       "\n",
       "**Category 3: Operations and Performance Monitoring**\n",
       "\n",
       "* ID Data Product: RPPBI0001\n",
       "\t+ Report Name: ProductionReport.pbix (not explicitly mentioned, but implied by the file name)\n",
       "\t+ View: Reservations Behaviour Report is not relevant here; instead, it's likely related to production or performance monitoring.\n",
       "* ID Data Product: RPPBI0104\n",
       "\t+ Report Name: eCommerce Report 2023 (same as above)\n",
       "\n",
       "However, based on further analysis of the provided information:\n",
       "\n",
       "**Corrected Category 1: Hotel and Accommodation**\n",
       "\n",
       "* ID Data Product: RPPBI0004\n",
       "\t+ Report Name: eCommerce Report 2024\n",
       "\t+ View: Reservations Behaviour Report (Lead Time, Lenght of Stay, AOV or Cancellation Rate)\n",
       "\t+ Dimensions: Channel, Segment, Feeder Market, Stay Month, Agency Type, Hotel Name, Brand, etc.\n",
       "* ID Data Product: RPPBI0104\n",
       "\t+ Report Name: eCommerce Report 2023\n",
       "\t+ View: Reservations Behaviour Report (Lead Time, Lenght of Stay, AOV or Cancellation Rate)\n",
       "\t+ Dimensions: Channel, Segment, Feeder Market, Stay Month, Agency Type, Hotel Name, Brand, etc.\n",
       "\n",
       "**Category 2: E-commerce and Online Sales**\n",
       "\n",
       "* ID Data Product: RPPBI0104\n",
       "\t+ Report Name: eCommerce Report 2023 (same as above)\n",
       "\n",
       "**Category 3: Operations and Performance Monitoring**\n",
       "\n",
       "* None of the provided data products seem to fit this category."
      ],
      "text/plain": [
       "<IPython.core.display.Markdown object>"
      ]
     },
     "metadata": {},
     "output_type": "display_data"
    }
   ],
   "source": [
    "# STEP 8: Ask your question\n",
    "query = \"Group the available views by their primary data domains.\"\n",
    "response = qa_chain.invoke({\"query\": query})\n",
    "\n",
    "display(Markdown(response[\"result\"]))\n"
   ]
  },
  {
   "cell_type": "code",
   "execution_count": 49,
   "id": "3999aa5d",
   "metadata": {},
   "outputs": [
    {
     "data": {
      "text/markdown": [
       "After analyzing the provided context, I would suggest merging the following two views:\n",
       "\n",
       "1. **Distribution NET Report - 2025 (Static)** (RPPBI0189)\n",
       "2. **Weekly Revenue Report 2025** (RPPBI0175)\n",
       "\n",
       "I would merge these two views because they share similar goals and characteristics:\n",
       "\n",
       "* Both reports aim to analyze intermediaries' monthly performance & evolution by KPI.\n",
       "* They both contain a first block of filters, a view of the performance of each agency based on different KPIs, analytics by month, brand, Agency GID, name, segment, channel, company GID & name, and an ad-hoc table to visualize different variables against different KPIs (in the case of Distribution NET Report - 2025).\n",
       "* Both reports have a high priority (Priority 1) and are considered \"Productive\" or in a similar status.\n",
       "\n",
       "By merging these two views, we can create a new consolidated view that:\n",
       "\n",
       "* Combines the strengths of both reports: the detailed analysis of intermediaries' performance from Distribution NET Report - 2025 and the comprehensive Revenue Management area insights from Weekly Revenue Report 2025.\n",
       "* Provides an even broader range of comparisons and KPIs (over 30 in total) for users to analyze and make informed decisions.\n",
       "\n",
       "This new consolidated view would be called **Commercial Performance Dashboard**. It will offer a unified platform for hotel managers, revenue analysts, or commercial efficiency experts to monitor key performance indicators (KPIs), identify trends, and optimize their business strategies across various dimensions such as hotels, months, segments, channels, cities, agencies, rate codes, channel mixes, Business Units (BU), sub-BUs, room types, and more.\n",
       "\n",
       "This new view would be designed with a user-friendly interface that allows for easy navigation between different sections of the report. It will also include features like filtering capabilities to narrow down data by specific criteria, customizable tables or charts to visualize KPIs in various formats, and drill-down functionality to access detailed information on individual hotels or segments.\n",
       "\n",
       "The **Commercial Performance Dashboard** would be a valuable addition to our reporting suite, providing users with an unparalleled level of insight into their commercial performance. It will enable them to make more informed decisions, optimize revenue streams, and drive business growth in the hospitality industry."
      ],
      "text/plain": [
       "<IPython.core.display.Markdown object>"
      ]
     },
     "metadata": {},
     "output_type": "display_data"
    }
   ],
   "source": [
    "# STEP 8: Ask your question\n",
    "query = \"If you had to design a new consolidated view, which existing views would you merge and why?\"\n",
    "response = qa_chain.invoke({\"query\": query})\n",
    "\n",
    "display(Markdown(response[\"result\"]))\n"
   ]
  },
  {
   "cell_type": "code",
   "execution_count": null,
   "id": "53e1ae38",
   "metadata": {},
   "outputs": [
    {
     "data": {
      "text/markdown": [
       "Based on the provided context, I can identify two types of reports:\n",
       "\n",
       "**Operational Management Reports**\n",
       "\n",
       "* ID Data Product: TLPBI0026 (Commercial Efficiency Model & Mastertools - BUNE)\n",
       "\t+ Report View: REDACTED EUAM Summary\n",
       "\t+ Focuses on Managed Business and its KPIs: Commercial Team, Company Cost & Cost Over Sales.\n",
       "* ID Data Product: RPPBI0173 (Daily Revenue Report 2025)\n",
       "\t+ Report View: Executive Summary\n",
       "\t+ Includes essential information from Daily Pick Up, Weekly Pick Up, Forecast, Budget, Auto Forecast, and Dummy Forecast.\n",
       "\n",
       "**Financial Management Reports**\n",
       "\n",
       "* ID Data Product: TLPBI0026 (Commercial Efficiency Model & Mastertools - BUNE) is also a financial management report as it focuses on Managed Business KPIs like Company Cost & Cost Over Sales.\n",
       "\t+ Report View: REDACTED EUAM Summary\n",
       "\t+ Focuses on Managed Business and its KPIs: Commercial Team, Company Cost & Cost Over Sales.\n",
       "\n",
       "**Operational vs Financial Management**\n",
       "\n",
       "The reports that support operational versus financial management are:\n",
       "\n",
       "* Operational Reports:\n",
       "\t1. ID Data Product: RPPBI0173 (Daily Revenue Report 2025)\n",
       "\t2. ID Data Product: TLPBI0026 (Commercial Efficiency Model & Mastertools - BUNE) for its focus on Managed Business KPIs like Commercial Team.\n",
       "* Financial Management Reports:\n",
       "\t1. ID Data Product: TLPBI0027 (Commercial Efficiency Model & Mastertools - BUSE)\n",
       "\t2. ID Data Product: TLPBI0028 (Commercial Efficiency Model & Mastertools, Older version)\n",
       "\n",
       "Note that the reports with \"REDACTED EUAM Summary\" are focused on financial management aspects like Company Cost and Cost Over Sales."
      ],
      "text/plain": [
       "<IPython.core.display.Markdown object>"
      ]
     },
     "metadata": {},
     "output_type": "display_data"
    }
   ],
   "source": [
    "\n",
    "\n",
    "query = \"What are the reporting views that support operational versus financial management?\"\n",
    "response = qa_chain.invoke({\"query\": query})\n",
    "display(Markdown(response[\"result\"]))\n"
   ]
  }
 ],
 "metadata": {
  "kernelspec": {
   "display_name": ".venv",
   "language": "python",
   "name": "python3"
  },
  "language_info": {
   "codemirror_mode": {
    "name": "ipython",
    "version": 3
   },
   "file_extension": ".py",
   "mimetype": "text/x-python",
   "name": "python",
   "nbconvert_exporter": "python",
   "pygments_lexer": "ipython3",
   "version": "3.9.16"
  }
 },
 "nbformat": 4,
 "nbformat_minor": 5
}
