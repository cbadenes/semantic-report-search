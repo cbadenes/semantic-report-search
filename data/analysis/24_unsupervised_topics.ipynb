{
 "cells": [
  {
   "cell_type": "markdown",
   "id": "95d2ed08",
   "metadata": {},
   "source": [
    "# Discovering Topics from Report Views\n",
    "\n",
    "In this notebook, we will build a **Latent Dirichlet Allocation (LDA)** model to uncover hidden topics in the textual descriptions of report views. This analysis helps us understand thematic structures in our data products and improve semantic search and categorization.\n",
    "\n",
    "We will:\n",
    "- Load and clean the descriptions from the `Views` sheet in the inventory.\n",
    "- Preprocess the text (tokenization, lemmatization, filtering).\n",
    "- Build a topic model using `scikit-learn`'s `LatentDirichletAllocation`.\n",
    "- Explore the extracted topics using `pyLDAvis`.\n",
    "\n",
    "This notebook follows the structure of the earlier topic modeling analysis on the Cordis dataset.\n"
   ]
  },
  {
   "cell_type": "code",
   "execution_count": 1,
   "id": "1bb55a21",
   "metadata": {},
   "outputs": [
    {
     "data": {
      "text/plain": [
       "Index(['ID Data Product', 'Report Name', 'Product Owner', 'PBIX_File',\n",
       "       'Report View', 'Description', 'Category', 'Status', 'Rename',\n",
       "       'Dimensions', 'KPIs', 'Other Terms', 'Filters', 'Tags', 'Priority'],\n",
       "      dtype='object')"
      ]
     },
     "execution_count": 1,
     "metadata": {},
     "output_type": "execute_result"
    }
   ],
   "source": [
    "import pandas as pd\n",
    "from pathlib import Path\n",
    "\n",
    "# Cargar el fichero de inventario\n",
    "xlsx_path = Path(\"../raw/Reporting_Inventory.xlsx\")\n",
    "views_df = pd.read_excel(xlsx_path, sheet_name=\"Views\")\n",
    "\n",
    "# Mostrar columnas disponibles\n",
    "views_df.columns\n"
   ]
  },
  {
   "cell_type": "markdown",
   "id": "633c3c01",
   "metadata": {},
   "source": [
    "We clean and preprocess the textual descriptions to prepare them for topic modeling. This includes:\n",
    "- Removing punctuation and stopwords\n",
    "- Lemmatizing\n",
    "- Token filtering by length and type\n"
   ]
  },
  {
   "cell_type": "code",
   "execution_count": 4,
   "id": "c62dd9d8",
   "metadata": {},
   "outputs": [
    {
     "name": "stderr",
     "output_type": "stream",
     "text": [
      "[nltk_data] Downloading package stopwords to\n",
      "[nltk_data]     /Users/cbadenes/nltk_data...\n",
      "[nltk_data]   Package stopwords is already up-to-date!\n"
     ]
    },
    {
     "data": {
      "text/html": [
       "<div>\n",
       "<style scoped>\n",
       "    .dataframe tbody tr th:only-of-type {\n",
       "        vertical-align: middle;\n",
       "    }\n",
       "\n",
       "    .dataframe tbody tr th {\n",
       "        vertical-align: top;\n",
       "    }\n",
       "\n",
       "    .dataframe thead th {\n",
       "        text-align: right;\n",
       "    }\n",
       "</style>\n",
       "<table border=\"1\" class=\"dataframe\">\n",
       "  <thead>\n",
       "    <tr style=\"text-align: right;\">\n",
       "      <th></th>\n",
       "      <th>ID Data Product</th>\n",
       "      <th>Report Name</th>\n",
       "      <th>Product Owner</th>\n",
       "      <th>PBIX_File</th>\n",
       "      <th>Report View</th>\n",
       "      <th>Description</th>\n",
       "      <th>Category</th>\n",
       "      <th>Status</th>\n",
       "      <th>Rename</th>\n",
       "      <th>Dimensions</th>\n",
       "      <th>KPIs</th>\n",
       "      <th>Other Terms</th>\n",
       "      <th>Filters</th>\n",
       "      <th>Tags</th>\n",
       "      <th>Priority</th>\n",
       "      <th>clean_text</th>\n",
       "    </tr>\n",
       "  </thead>\n",
       "  <tbody>\n",
       "    <tr>\n",
       "      <th>0</th>\n",
       "      <td>RPPBI0032</td>\n",
       "      <td>Feeder Market - 2024</td>\n",
       "      <td>Jonathan Shields</td>\n",
       "      <td>LifeReport.pbix</td>\n",
       "      <td>CRITERIA</td>\n",
       "      <td>Methodolody and definition of the algorithim o...</td>\n",
       "      <td>Informative</td>\n",
       "      <td>Productive</td>\n",
       "      <td>NaN</td>\n",
       "      <td>NaN</td>\n",
       "      <td>NaN</td>\n",
       "      <td>NaN</td>\n",
       "      <td>NaN</td>\n",
       "      <td>NaN</td>\n",
       "      <td>Priority 1</td>\n",
       "      <td>methodolody definition algorithim feed market</td>\n",
       "    </tr>\n",
       "    <tr>\n",
       "      <th>1</th>\n",
       "      <td>RPPBI0032</td>\n",
       "      <td>Feeder Market - 2024</td>\n",
       "      <td>Jonathan Shields</td>\n",
       "      <td>LifeReport.pbix</td>\n",
       "      <td>DESTINATION_OF_FEEDER_MARKETS</td>\n",
       "      <td>View focused on understand the performance by ...</td>\n",
       "      <td>Functional</td>\n",
       "      <td>Productive</td>\n",
       "      <td>NaN</td>\n",
       "      <td>Hotel, month, Feeder Market, Segment, Channel ...</td>\n",
       "      <td>Total Revenue, Room Revenue, RN, Lead Time, Le...</td>\n",
       "      <td>NaN</td>\n",
       "      <td>NaN</td>\n",
       "      <td>NaN</td>\n",
       "      <td>Priority 1</td>\n",
       "      <td>view focus understand performance hotel specif...</td>\n",
       "    </tr>\n",
       "    <tr>\n",
       "      <th>2</th>\n",
       "      <td>RPPBI0032</td>\n",
       "      <td>Feeder Market - 2024</td>\n",
       "      <td>Jonathan Shields</td>\n",
       "      <td>LifeReport.pbix</td>\n",
       "      <td>EXECUTIVE VIEW</td>\n",
       "      <td>Global view to understand Feeder Market Perfor...</td>\n",
       "      <td>Executive</td>\n",
       "      <td>Productive</td>\n",
       "      <td>NaN</td>\n",
       "      <td>Hotel, month, Feeder Market, Segment, Channel ...</td>\n",
       "      <td>Total Revenue, Room Revenue, RN, Lead Time, Le...</td>\n",
       "      <td>NaN</td>\n",
       "      <td>NaN</td>\n",
       "      <td>NaN</td>\n",
       "      <td>Priority 1</td>\n",
       "      <td>global view understand feed market performance...</td>\n",
       "    </tr>\n",
       "    <tr>\n",
       "      <th>3</th>\n",
       "      <td>RPPBI0032</td>\n",
       "      <td>Feeder Market - 2024</td>\n",
       "      <td>Jonathan Shields</td>\n",
       "      <td>LifeReport.pbix</td>\n",
       "      <td>FEEDER MARKET FLOWS</td>\n",
       "      <td>View focused on understanding the booking beha...</td>\n",
       "      <td>Functional</td>\n",
       "      <td>Productive</td>\n",
       "      <td>NaN</td>\n",
       "      <td>Hotel, month, Feeder Market, Segment, Channel ...</td>\n",
       "      <td>Total Revenue, Room Revenue, RN, Lead Time, Le...</td>\n",
       "      <td>NaN</td>\n",
       "      <td>NaN</td>\n",
       "      <td>NaN</td>\n",
       "      <td>Priority 1</td>\n",
       "      <td>view focus understand book behaviour feeder ma...</td>\n",
       "    </tr>\n",
       "    <tr>\n",
       "      <th>4</th>\n",
       "      <td>RPPBI0032</td>\n",
       "      <td>Feeder Market - 2024</td>\n",
       "      <td>Jonathan Shields</td>\n",
       "      <td>LifeReport.pbix</td>\n",
       "      <td>FEEDER_MARKET_DETAIL</td>\n",
       "      <td>Detail view of Feeder Markets by Destination i...</td>\n",
       "      <td>Functional</td>\n",
       "      <td>Productive</td>\n",
       "      <td>NaN</td>\n",
       "      <td>Hotel, month, Feeder Market, Segment, Channel ...</td>\n",
       "      <td>Total Revenue, Room Revenue, RN, Lead Time, Le...</td>\n",
       "      <td>NaN</td>\n",
       "      <td>NaN</td>\n",
       "      <td>NaN</td>\n",
       "      <td>Priority 1</td>\n",
       "      <td>detail view feed market destination include in...</td>\n",
       "    </tr>\n",
       "  </tbody>\n",
       "</table>\n",
       "</div>"
      ],
      "text/plain": [
       "  ID Data Product           Report Name     Product Owner        PBIX_File  \\\n",
       "0       RPPBI0032  Feeder Market - 2024  Jonathan Shields  LifeReport.pbix   \n",
       "1       RPPBI0032  Feeder Market - 2024  Jonathan Shields  LifeReport.pbix   \n",
       "2       RPPBI0032  Feeder Market - 2024  Jonathan Shields  LifeReport.pbix   \n",
       "3       RPPBI0032  Feeder Market - 2024  Jonathan Shields  LifeReport.pbix   \n",
       "4       RPPBI0032  Feeder Market - 2024  Jonathan Shields  LifeReport.pbix   \n",
       "\n",
       "                     Report View  \\\n",
       "0                       CRITERIA   \n",
       "1  DESTINATION_OF_FEEDER_MARKETS   \n",
       "2                 EXECUTIVE VIEW   \n",
       "3            FEEDER MARKET FLOWS   \n",
       "4           FEEDER_MARKET_DETAIL   \n",
       "\n",
       "                                         Description     Category      Status  \\\n",
       "0  Methodolody and definition of the algorithim o...  Informative  Productive   \n",
       "1  View focused on understand the performance by ...   Functional  Productive   \n",
       "2  Global view to understand Feeder Market Perfor...    Executive  Productive   \n",
       "3  View focused on understanding the booking beha...   Functional  Productive   \n",
       "4  Detail view of Feeder Markets by Destination i...   Functional  Productive   \n",
       "\n",
       "  Rename                                         Dimensions  \\\n",
       "0    NaN                                                NaN   \n",
       "1    NaN  Hotel, month, Feeder Market, Segment, Channel ...   \n",
       "2    NaN  Hotel, month, Feeder Market, Segment, Channel ...   \n",
       "3    NaN  Hotel, month, Feeder Market, Segment, Channel ...   \n",
       "4    NaN  Hotel, month, Feeder Market, Segment, Channel ...   \n",
       "\n",
       "                                                KPIs Other Terms Filters Tags  \\\n",
       "0                                                NaN         NaN     NaN  NaN   \n",
       "1  Total Revenue, Room Revenue, RN, Lead Time, Le...         NaN     NaN  NaN   \n",
       "2  Total Revenue, Room Revenue, RN, Lead Time, Le...         NaN     NaN  NaN   \n",
       "3  Total Revenue, Room Revenue, RN, Lead Time, Le...         NaN     NaN  NaN   \n",
       "4  Total Revenue, Room Revenue, RN, Lead Time, Le...         NaN     NaN  NaN   \n",
       "\n",
       "     Priority                                         clean_text  \n",
       "0  Priority 1      methodolody definition algorithim feed market  \n",
       "1  Priority 1  view focus understand performance hotel specif...  \n",
       "2  Priority 1  global view understand feed market performance...  \n",
       "3  Priority 1  view focus understand book behaviour feeder ma...  \n",
       "4  Priority 1  detail view feed market destination include in...  "
      ]
     },
     "execution_count": 4,
     "metadata": {},
     "output_type": "execute_result"
    }
   ],
   "source": [
    "import nltk\n",
    "import spacy\n",
    "import re\n",
    "from sklearn.feature_extraction.text import CountVectorizer\n",
    "\n",
    "nltk.download(\"stopwords\")\n",
    "from nltk.corpus import stopwords\n",
    "\n",
    "nlp = spacy.load(\"en_core_web_sm\")\n",
    "stop_words = set(stopwords.words(\"english\"))\n",
    "\n",
    "def preprocess(text):\n",
    "    doc = nlp(text.lower())\n",
    "    tokens = [\n",
    "        token.lemma_ for token in doc\n",
    "        if token.is_alpha and token.lemma_ not in stop_words and len(token) > 2\n",
    "    ]\n",
    "    return \" \".join(tokens)\n",
    "\n",
    "# Aplicar preprocesado a la columna de descripción\n",
    "views_df[\"clean_text\"] = views_df[\"Description\"].astype(str).apply(preprocess)\n",
    "views_df.head(5)"
   ]
  },
  {
   "cell_type": "markdown",
   "id": "7168f52d",
   "metadata": {},
   "source": [
    "We vectorize the cleaned text and apply `LatentDirichletAllocation` to discover underlying topics.\n"
   ]
  },
  {
   "cell_type": "code",
   "execution_count": 5,
   "id": "e6c764f8",
   "metadata": {},
   "outputs": [
    {
     "name": "stdout",
     "output_type": "stream",
     "text": [
      "Topic 0:  business, portfolio, account, total, summary, report, regard, sale, activity, performance\n",
      "Topic 1:  nan, forecast, detail, budget, year, total, information, pick, level, last\n",
      "Topic 2:  view, page, hotel, kpis, information, table, block, analyze, kpi, detail\n",
      "Topic 3:  view, channel, index, page, block, performance, month, button, market, interactive\n",
      "Topic 4:  tab, cost, datum, report, consumption, ratio, detailed, quality, hotel, level\n"
     ]
    },
    {
     "data": {
      "text/plain": [
       "['../models/vectorizer.pkl']"
      ]
     },
     "execution_count": 5,
     "metadata": {},
     "output_type": "execute_result"
    }
   ],
   "source": [
    "from sklearn.decomposition import LatentDirichletAllocation\n",
    "\n",
    "# Vectorización\n",
    "vectorizer = CountVectorizer(max_df=0.95, min_df=2)\n",
    "dtm = vectorizer.fit_transform(views_df[\"clean_text\"])\n",
    "\n",
    "# Modelo LDA\n",
    "lda_model = LatentDirichletAllocation(n_components=5, random_state=42)\n",
    "lda_model.fit(dtm)\n",
    "\n",
    "# Visualizar los tópicos\n",
    "def display_topics(model, feature_names, no_top_words=10):\n",
    "    for topic_idx, topic in enumerate(model.components_):\n",
    "        print(f\"Topic {topic_idx}: \", \", \".join([feature_names[i] for i in topic.argsort()[:-no_top_words - 1:-1]]))\n",
    "\n",
    "display_topics(lda_model, vectorizer.get_feature_names_out())\n",
    "# Guardar el modelo LDA y el vectorizador\n",
    "import joblib\n",
    "model_path = Path(\"../models/lda_model.pkl\")\n",
    "joblib.dump(lda_model, model_path)\n",
    "vectorizer_path = Path(\"../models/vectorizer.pkl\")\n",
    "joblib.dump(vectorizer, vectorizer_path)"
   ]
  },
  {
   "cell_type": "markdown",
   "id": "b5278209",
   "metadata": {},
   "source": [
    "We use `pyLDAvis` to explore the topic-term distributions interactively.\n"
   ]
  },
  {
   "cell_type": "code",
   "execution_count": 10,
   "id": "c7bfafcb",
   "metadata": {},
   "outputs": [
    {
     "data": {
      "text/html": [
       "\n",
       "<link rel=\"stylesheet\" type=\"text/css\" href=\"https://cdn.jsdelivr.net/gh/bmabey/pyLDAvis@3.4.0/pyLDAvis/js/ldavis.v1.0.0.css\">\n",
       "\n",
       "\n",
       "<div id=\"ldavis_el15586119409203369100052957\" style=\"background-color:white;\"></div>\n",
       "<script type=\"text/javascript\">\n",
       "\n",
       "var ldavis_el15586119409203369100052957_data = {\"mdsDat\": {\"x\": [-0.1253618431480682, -0.013432378266357608, -0.18073119624090964, 0.006013252364716762, 0.3135121652906185], \"y\": [-0.047095604808421516, 0.15731840247438722, -0.1728668002742473, 0.17779871647849696, -0.11515471387021509], \"topics\": [1, 2, 3, 4, 5], \"cluster\": [1, 1, 1, 1, 1], \"Freq\": [27.076162794589692, 21.779283576507797, 20.273015118825057, 17.63107789628991, 13.240460613787555]}, \"tinfo\": {\"Term\": [\"nan\", \"view\", \"index\", \"block\", \"page\", \"button\", \"interactive\", \"business\", \"market\", \"channel\", \"cost\", \"analytic\", \"kpis\", \"portfolio\", \"month\", \"feeder\", \"summary\", \"account\", \"hotel\", \"tab\", \"consumption\", \"datum\", \"subchannel\", \"segment\", \"quality\", \"report\", \"total\", \"filter\", \"analyze\", \"ratio\", \"loyalty\", \"hide\", \"attribute\", \"criterion\", \"oci\", \"hoc\", \"development\", \"category\", \"informative\", \"description\", \"city\", \"mail\", \"rfp\", \"dashboard\", \"field\", \"lead\", \"master\", \"program\", \"campaign\", \"navigate\", \"unmanaged\", \"cancellation\", \"name\", \"operational\", \"offer\", \"achievement\", \"identification\", \"direct\", \"cover\", \"kpis\", \"main\", \"point\", \"hotel\", \"rate\", \"specific\", \"view\", \"dimension\", \"reservation\", \"page\", \"analyze\", \"kpi\", \"user\", \"quest\", \"contain\", \"metric\", \"block\", \"table\", \"information\", \"different\", \"filter\", \"detail\", \"evolution\", \"summary\", \"creation\", \"report\", \"performance\", \"show\", \"also\", \"executive\", \"first\", \"select\", \"month\", \"channel\", \"business\", \"quality\", \"score\", \"str\", \"forecasted\", \"dedicate\", \"every\", \"term\", \"effort\", \"consolidate\", \"occ\", \"water\", \"survey\", \"sensitive\", \"value\", \"format\", \"breakfast\", \"since\", \"dedication\", \"forward\", \"competitive\", \"graphical\", \"historical\", \"influence\", \"outlier\", \"quickly\", \"representation\", \"scatter\", \"review\", \"payroll\", \"medium\", \"energy\", \"daily\", \"ratio\", \"cost\", \"tab\", \"hour\", \"link\", \"datum\", \"consumption\", \"actual\", \"compare\", \"detailed\", \"report\", \"level\", \"base\", \"portfolio\", \"source\", \"analyze\", \"also\", \"year\", \"team\", \"hotel\", \"section\", \"include\", \"detail\", \"analysis\", \"day\", \"performance\", \"evolution\", \"index\", \"button\", \"feeder\", \"subchannel\", \"feed\", \"error\", \"like\", \"volume\", \"interactive\", \"potential\", \"travel\", \"analytic\", \"generate\", \"evolutive\", \"language\", \"around\", \"device\", \"confirm\", \"destination\", \"market\", \"agency\", \"success\", \"contactability\", \"chargeback\", \"end\", \"digital\", \"evolutionary\", \"prediction\", \"intermediated\", \"tos\", \"brand\", \"parameter\", \"later\", \"segment\", \"month\", \"oco\", \"channel\", \"general\", \"block\", \"view\", \"dynamic\", \"performance\", \"week\", \"page\", \"filter\", \"evolution\", \"company\", \"information\", \"show\", \"first\", \"country\", \"base\", \"table\", \"contain\", \"detailed\", \"monitor\", \"manage\", \"perspective\", \"rest\", \"next\", \"amount\", \"beggining\", \"bus\", \"loading\", \"buse\", \"special\", \"monitarization\", \"airline\", \"corporate\", \"delete\", \"remain\", \"kwh\", \"credit\", \"hiden\", \"permanently\", \"achieve\", \"employee\", \"purchase\", \"upload\", \"assign\", \"ahs\", \"bgt\", \"monitorization\", \"pende\", \"together\", \"way\", \"could\", \"tms\", \"order\", \"business\", \"account\", \"activity\", \"present\", \"portfolio\", \"start\", \"total\", \"summary\", \"sale\", \"type\", \"regard\", \"team\", \"global\", \"budget\", \"report\", \"revenue\", \"create\", \"number\", \"year\", \"monthly\", \"performance\", \"information\", \"channel\", \"cost\", \"table\", \"consumption\", \"detail\", \"different\", \"country\", \"kpi\", \"quest\", \"nan\", \"pick\", \"season\", \"auto\", \"manual\", \"material\", \"former\", \"dummy\", \"summarize\", \"bid\", \"upselle\", \"drill\", \"utilite\", \"avoid\", \"contribute\", \"kilogram\", \"pie\", \"proportion\", \"represent\", \"noy\", \"comparisson\", \"behind\", \"certification\", \"info\", \"late\", \"training\", \"office\", \"emission\", \"fix\", \"multiple\", \"otb\", \"rfps\", \"forecast\", \"last\", \"reason\", \"scope\", \"budget\", \"cash\", \"expense\", \"alert\", \"detail\", \"year\", \"spit\", \"level\", \"total\", \"overview\", \"account\", \"detailed\", \"information\", \"previous\", \"regard\", \"graph\", \"table\", \"include\", \"tab\", \"quest\", \"contain\"], \"Freq\": [696.0, 276.0, 59.0, 107.0, 150.0, 52.0, 53.0, 68.0, 57.0, 100.0, 78.0, 50.0, 68.0, 68.0, 83.0, 37.0, 60.0, 54.0, 122.0, 83.0, 53.0, 82.0, 31.0, 61.0, 31.0, 95.0, 67.0, 54.0, 84.0, 42.0, 22.17059044396028, 16.175559776929887, 16.16083004019721, 15.179906050102542, 15.140649680932716, 14.17310952773989, 14.171675800292725, 12.182912539357519, 12.182140685949214, 11.184579634181613, 11.183547345087952, 10.183862529464735, 10.18292305117244, 9.18795378290132, 9.187284329422639, 9.1867679594275, 9.182528231980454, 8.189395263767913, 8.187994256886054, 8.179547635119052, 8.154326035592426, 7.18874828688618, 7.180268115005816, 7.179728779165096, 6.191980185898067, 6.191970119003751, 6.189823245965706, 6.178573395782772, 6.176459934652318, 61.172212190559314, 31.834694434479918, 14.188937011328097, 82.24887812322618, 16.23879410180533, 31.753302561462327, 140.0034154087429, 21.00800794530751, 18.806472356357755, 82.27190626172906, 49.2289476986455, 38.87468108101181, 27.73557999089154, 33.767709128004334, 37.285079776465786, 14.969003787266017, 50.971022628708106, 51.823769189661284, 54.25338059499622, 30.804048206206517, 27.275802865006114, 37.52888627624339, 35.144111073689, 27.49786817193287, 16.179073926515553, 29.632171017124843, 32.00498657269702, 24.82558754191811, 23.15582808748334, 18.1381882452835, 21.412253139526687, 17.21313657084257, 19.37173256035389, 19.69207408590848, 18.523516210643535, 30.463772253898455, 22.345363416477017, 18.423482969520506, 16.4003770982787, 13.363267188278309, 13.353178716512735, 12.349245766128382, 11.338531109423112, 11.338525792707628, 11.338525792707628, 11.337093567217943, 11.336368576085144, 11.30911741509799, 10.326161795923866, 10.32369225195575, 10.321233718137242, 10.292498516443187, 9.313794055909963, 9.313787762547225, 9.312202961783822, 8.301424197478228, 8.301424197478228, 8.301424197478228, 8.301424197478228, 8.301424197478228, 8.301424197478228, 8.301424197478228, 8.299302205580284, 7.288573283224846, 7.286994503268117, 14.05287172742367, 17.242281771907926, 33.02148494094047, 55.93769306252122, 58.714361500313736, 20.174796434427776, 14.388780400285281, 54.69209192911494, 37.11580096739335, 22.097807234948014, 22.53901079961395, 30.73801939016694, 39.304759502357015, 27.47828415420006, 22.05104949671429, 25.303150907630176, 14.377867729662732, 26.701937395520147, 24.004274197220624, 23.068338366779788, 18.115031135213368, 27.896867204813173, 15.701853068291829, 20.333698162006176, 22.52699132713267, 14.610460319721687, 15.019259351062098, 15.325312249354429, 14.605939406292961, 59.072467360271936, 52.205467933760815, 36.49322605852713, 30.616971908801535, 14.91492115005828, 12.952036892071177, 10.984792363019409, 8.045851876293861, 48.264343460383806, 7.058687493405636, 7.054303818554975, 45.70691466374564, 6.084177244160662, 6.081816733225655, 5.102304308807926, 5.102304308807871, 5.102304308807857, 5.098566877594581, 22.227767315741804, 48.952541330412096, 25.276873704234426, 4.1208177163793005, 4.116128914801737, 4.110079552871719, 4.102794711245565, 23.748559809157793, 3.140215132008787, 3.140215132008787, 3.1399386766389252, 3.1399386766389252, 20.085413518521275, 18.85976515073644, 15.899747513203238, 44.39815895425488, 53.56098373560457, 13.115223710518842, 60.937951735234, 16.70936602118914, 56.29064088021221, 113.88006047946362, 18.84645096125363, 54.79414147159235, 23.47038585346266, 58.546976737284616, 26.581015893166963, 37.025698262869355, 18.996281282144313, 38.87503173666044, 28.314100737530435, 26.88676511584129, 24.665707749121704, 20.702314040170915, 28.294272782257575, 21.900995866697567, 18.962127879626294, 16.235259085708385, 14.229846462553443, 14.228972256276505, 14.22894932363526, 13.225519186435937, 13.206476210346965, 11.224283873990995, 11.224283873990995, 11.224283873990995, 11.221324515416237, 10.164649406471874, 9.219730594905345, 9.21783363640998, 8.218049868393717, 7.215826604309891, 7.2127841417943275, 6.213651911015923, 6.213645814473318, 6.213638613069658, 6.213638613069658, 6.213036534968007, 6.2125103186839326, 6.211278951670573, 14.236746483481083, 5.211444967325964, 5.2114444545487695, 5.2114444545487695, 5.2114444545487695, 5.211064040916507, 5.210919147256312, 13.074426763043407, 11.228792335985007, 11.173972817654148, 11.22528403803731, 47.654949939442176, 37.51332376133495, 23.8968295800609, 13.860285296506188, 40.16294793208075, 13.304761184139425, 36.468905460713145, 32.9255961654454, 24.066133573135406, 19.913576099937814, 24.23086758554119, 18.617467156027306, 13.256542160621917, 18.44536300366583, 26.15997112606566, 17.870449634552735, 13.675404902418325, 15.923249969671888, 18.690994797688944, 15.962469777968156, 21.65182896249353, 21.58699905207913, 19.288645533435886, 17.75699294033385, 18.181923272352517, 15.771576381865176, 17.134040343123083, 16.155468918673407, 14.838689285971268, 14.288976926882642, 14.250935531031347, 695.6369778172036, 12.218577743095373, 7.690839051871119, 6.937522557233892, 6.936603352128289, 6.183226761393856, 6.180983346900387, 3.91930191132992, 3.1676029486758845, 3.163532584801763, 3.162755392641499, 3.158189662244902, 3.1548446893556092, 2.413832630400845, 2.413832630400845, 2.413832630400845, 2.413832630400845, 2.413832630400845, 2.413832630400845, 2.4138216944870674, 2.4114915781285924, 2.410464666564437, 2.409809113595622, 2.4069369231912816, 2.4044172177513286, 2.4038270544016265, 2.393687740070361, 11.203695650933117, 1.659508414713922, 1.659508414713922, 4.243828257298502, 4.6859912203511085, 19.905736179435564, 11.260954258687292, 5.799431462872065, 4.680717096456423, 13.628318272780456, 3.1727157200450136, 3.1691482549410837, 5.178618212240055, 17.725329681800904, 13.45364861721449, 4.450943983052696, 11.601452855678556, 12.736808164246272, 5.442382689470329, 9.642522084773121, 10.256489616326226, 12.582244313273957, 5.47092695518686, 7.2339258699824365, 4.682252589655233, 6.879835421123467, 5.781756963512915, 6.026493806610313, 4.751600155155102, 4.747610709891359], \"Total\": [696.0, 276.0, 59.0, 107.0, 150.0, 52.0, 53.0, 68.0, 57.0, 100.0, 78.0, 50.0, 68.0, 68.0, 83.0, 37.0, 60.0, 54.0, 122.0, 83.0, 53.0, 82.0, 31.0, 61.0, 31.0, 95.0, 67.0, 54.0, 84.0, 42.0, 22.92133242343816, 16.92879827445978, 16.92885184745063, 15.930399296338791, 15.929714589436072, 14.930465060685469, 14.931727343737592, 12.934275847272383, 12.93406090490281, 11.93556665119053, 11.935328189457433, 10.93680855403023, 10.935906956430445, 9.938116083782212, 9.938157541046133, 9.938126206494795, 9.938183272983927, 8.939442634824399, 8.939452334712746, 8.939270645771893, 8.939569169102294, 7.940745179798439, 7.940723056024881, 7.940793503726308, 6.942028008275938, 6.942027370486933, 6.941999211613895, 6.94208233014195, 6.942178178514913, 68.95632886810509, 36.962150083934795, 17.197147569017105, 122.11738853462704, 20.844218409384894, 45.65853639143309, 276.78258587055745, 28.788844665568785, 25.220138553975403, 150.84816835325444, 84.06568582061183, 64.78661522042802, 42.69083176578579, 57.49158496637599, 66.01189503582994, 19.404404681782705, 107.81609853086833, 117.3421899069152, 132.1991845793508, 64.4752285803748, 54.41206616905994, 99.40584529973606, 91.08956174925137, 60.986130658933796, 22.817030024594153, 95.44620593899448, 127.83009372759278, 74.23203941693744, 69.6435388746152, 30.995485527420392, 67.85336752474761, 27.804923925898134, 83.02531697875732, 100.67830115142095, 68.9865991648794, 31.31973881340685, 23.220596043548703, 19.17237501299693, 17.147690041467893, 14.110582500970736, 14.110353654009067, 13.098189856747444, 12.085844482431124, 12.085844025259533, 12.085844025259533, 12.085694120742799, 12.085812709714677, 12.085496105400917, 11.073475347679004, 11.07344840834296, 11.073188828605023, 11.073080779334504, 10.061106358717806, 10.061105826501326, 10.061006114755784, 9.048737182878899, 9.048737182878899, 9.048737182878899, 9.048737182878899, 9.048737182878899, 9.048737182878899, 9.048737182878899, 9.048708287371813, 8.036362517825632, 8.036303996487428, 15.795248330842423, 20.057919006248998, 42.36334114983691, 78.66268610261328, 83.75673217484501, 25.176645718401442, 17.12054256322001, 82.58297392742949, 53.43483896951527, 32.69150298151193, 34.92098576693402, 64.66877578888862, 95.44620593899448, 56.417522684614184, 45.8227357021151, 68.34121834378459, 21.95233513765261, 84.06568582061183, 69.6435388746152, 67.8588290133708, 39.206520187066644, 122.11738853462704, 28.164635643404342, 59.09623452236907, 99.40584529973606, 26.53937683770263, 41.87872175573899, 127.83009372759278, 91.08956174925137, 59.82910083456217, 52.95979097429391, 37.2585892552926, 31.370724869951875, 15.669336748053432, 13.706976762361396, 11.744417216494286, 8.800367475798742, 53.029618898646284, 7.81916935843558, 7.819259677577438, 50.703690844484086, 6.837707224012308, 6.837751667291532, 5.856396924242776, 5.856396924242778, 5.856396924242777, 5.8564778818817675, 25.535981100208, 57.1118431041939, 29.514911989974546, 4.875079371359169, 4.8751684397884825, 4.875309412604767, 4.875489809720802, 28.51027432673176, 3.893745599122565, 3.893745599122565, 3.8937509729776068, 3.8937509729776068, 25.565084446048033, 24.601616754880528, 20.645700046216636, 61.08028534694928, 83.02531697875732, 17.698912939001755, 100.67830115142095, 24.62618774890211, 107.81609853086833, 276.78258587055745, 31.57927130026239, 127.83009372759278, 42.58568206898636, 150.84816835325444, 54.41206616905994, 91.08956174925137, 35.641731558357705, 132.1991845793508, 74.23203941693744, 67.85336752474761, 58.5358641738753, 45.8227357021151, 117.3421899069152, 66.01189503582994, 64.66877578888862, 16.985017449042395, 14.980607870171077, 14.980589568616173, 14.980590631992417, 13.978058417829565, 13.973706692412359, 11.974002398350335, 11.974002398350335, 11.974002398350335, 11.973987045820895, 10.97160852455699, 9.969593815734495, 9.969599838149847, 8.967402343233976, 7.965198397050168, 7.965157495060152, 6.962998235763794, 6.962997757616848, 6.962997190842156, 6.962997190842156, 6.963001178618289, 6.962998515681399, 6.9630170483733815, 15.992631395354586, 5.960795563754597, 5.960795527056254, 5.960795527056254, 5.960795527056254, 5.96079386872809, 5.960799665705692, 14.95671714180355, 12.986325201187606, 12.954311851413987, 13.4858962821547, 68.9865991648794, 54.01678700266934, 34.11734719342383, 17.97544447716572, 68.34121834378459, 17.90530333925223, 67.73705618819329, 60.986130658933796, 41.98383429996459, 37.02704452929779, 52.75727030009707, 39.206520187066644, 21.52533373504579, 43.48736542707086, 95.44620593899448, 45.74914689913018, 23.991986764131696, 39.98734535159746, 67.8588290133708, 41.05322792485504, 127.83009372759278, 132.1991845793508, 100.67830115142095, 78.66268610261328, 117.3421899069152, 53.43483896951527, 99.40584529973606, 64.4752285803748, 58.5358641738753, 64.78661522042802, 57.49158496637599, 696.4360122937959, 13.019434070855386, 8.494065784189454, 7.739428059016443, 7.739731164852927, 6.985103182928489, 6.985844620190218, 4.722443118956075, 3.96725819633342, 3.9685769009800635, 3.968853675805322, 3.9700786148626577, 3.971631994990168, 3.212755573923424, 3.212755573923424, 3.212755573923424, 3.212755573923424, 3.212755573923424, 3.212755573923424, 3.212759121226769, 3.2134602641735244, 3.2138336549246844, 3.2141034045140393, 3.214999339848476, 3.2157893629664343, 3.2160613795476083, 3.2196462951382196, 16.359552056181343, 2.458432402218815, 2.458432402218815, 6.614712248328233, 7.497129519514331, 47.60919764418756, 23.33698104812906, 10.105552597227934, 8.470579646755787, 43.48736542707086, 4.964309070955197, 4.968945569784081, 11.350831854393002, 99.40584529973606, 67.8588290133708, 9.558749102272113, 56.417522684614184, 67.73705618819329, 16.227681939783743, 54.01678700266934, 64.66877578888862, 132.1991845793508, 18.30706413946905, 52.75727030009707, 14.479798155993624, 117.3421899069152, 59.09623452236907, 83.75673217484501, 57.49158496637599, 66.01189503582994], \"Category\": [\"Default\", \"Default\", \"Default\", \"Default\", \"Default\", \"Default\", \"Default\", \"Default\", \"Default\", \"Default\", \"Default\", \"Default\", \"Default\", \"Default\", \"Default\", \"Default\", \"Default\", \"Default\", \"Default\", \"Default\", \"Default\", \"Default\", \"Default\", \"Default\", \"Default\", \"Default\", \"Default\", \"Default\", \"Default\", \"Default\", \"Topic1\", \"Topic1\", \"Topic1\", \"Topic1\", \"Topic1\", \"Topic1\", \"Topic1\", \"Topic1\", \"Topic1\", \"Topic1\", \"Topic1\", \"Topic1\", \"Topic1\", \"Topic1\", \"Topic1\", \"Topic1\", \"Topic1\", \"Topic1\", \"Topic1\", \"Topic1\", \"Topic1\", \"Topic1\", \"Topic1\", \"Topic1\", \"Topic1\", \"Topic1\", \"Topic1\", \"Topic1\", \"Topic1\", \"Topic1\", \"Topic1\", \"Topic1\", \"Topic1\", \"Topic1\", \"Topic1\", \"Topic1\", \"Topic1\", \"Topic1\", \"Topic1\", \"Topic1\", \"Topic1\", \"Topic1\", \"Topic1\", \"Topic1\", \"Topic1\", \"Topic1\", \"Topic1\", \"Topic1\", \"Topic1\", \"Topic1\", \"Topic1\", \"Topic1\", \"Topic1\", \"Topic1\", \"Topic1\", \"Topic1\", \"Topic1\", \"Topic1\", \"Topic1\", \"Topic1\", \"Topic1\", \"Topic1\", \"Topic1\", \"Topic1\", \"Topic2\", \"Topic2\", \"Topic2\", \"Topic2\", \"Topic2\", \"Topic2\", \"Topic2\", \"Topic2\", \"Topic2\", \"Topic2\", \"Topic2\", \"Topic2\", \"Topic2\", \"Topic2\", \"Topic2\", \"Topic2\", \"Topic2\", \"Topic2\", \"Topic2\", \"Topic2\", \"Topic2\", \"Topic2\", \"Topic2\", \"Topic2\", \"Topic2\", \"Topic2\", \"Topic2\", \"Topic2\", \"Topic2\", \"Topic2\", \"Topic2\", \"Topic2\", \"Topic2\", \"Topic2\", \"Topic2\", \"Topic2\", \"Topic2\", \"Topic2\", \"Topic2\", \"Topic2\", \"Topic2\", \"Topic2\", \"Topic2\", \"Topic2\", \"Topic2\", \"Topic2\", \"Topic2\", \"Topic2\", \"Topic2\", \"Topic2\", \"Topic2\", \"Topic2\", \"Topic2\", \"Topic2\", \"Topic2\", \"Topic2\", \"Topic2\", \"Topic2\", \"Topic2\", \"Topic3\", \"Topic3\", \"Topic3\", \"Topic3\", \"Topic3\", \"Topic3\", \"Topic3\", \"Topic3\", \"Topic3\", \"Topic3\", \"Topic3\", \"Topic3\", \"Topic3\", \"Topic3\", \"Topic3\", \"Topic3\", \"Topic3\", \"Topic3\", \"Topic3\", \"Topic3\", \"Topic3\", \"Topic3\", \"Topic3\", \"Topic3\", \"Topic3\", \"Topic3\", \"Topic3\", \"Topic3\", \"Topic3\", \"Topic3\", \"Topic3\", \"Topic3\", \"Topic3\", \"Topic3\", \"Topic3\", \"Topic3\", \"Topic3\", \"Topic3\", \"Topic3\", \"Topic3\", \"Topic3\", \"Topic3\", \"Topic3\", \"Topic3\", \"Topic3\", \"Topic3\", \"Topic3\", \"Topic3\", \"Topic3\", \"Topic3\", \"Topic3\", \"Topic3\", \"Topic3\", \"Topic3\", \"Topic3\", \"Topic4\", \"Topic4\", \"Topic4\", \"Topic4\", \"Topic4\", \"Topic4\", \"Topic4\", \"Topic4\", \"Topic4\", \"Topic4\", \"Topic4\", \"Topic4\", \"Topic4\", \"Topic4\", \"Topic4\", \"Topic4\", \"Topic4\", \"Topic4\", \"Topic4\", \"Topic4\", \"Topic4\", \"Topic4\", \"Topic4\", \"Topic4\", \"Topic4\", \"Topic4\", \"Topic4\", \"Topic4\", \"Topic4\", \"Topic4\", \"Topic4\", \"Topic4\", \"Topic4\", \"Topic4\", \"Topic4\", \"Topic4\", \"Topic4\", \"Topic4\", \"Topic4\", \"Topic4\", \"Topic4\", \"Topic4\", \"Topic4\", \"Topic4\", \"Topic4\", \"Topic4\", \"Topic4\", \"Topic4\", \"Topic4\", \"Topic4\", \"Topic4\", \"Topic4\", \"Topic4\", \"Topic4\", \"Topic4\", \"Topic4\", \"Topic4\", \"Topic4\", \"Topic4\", \"Topic4\", \"Topic4\", \"Topic4\", \"Topic4\", \"Topic4\", \"Topic4\", \"Topic5\", \"Topic5\", \"Topic5\", \"Topic5\", \"Topic5\", \"Topic5\", \"Topic5\", \"Topic5\", \"Topic5\", \"Topic5\", \"Topic5\", \"Topic5\", \"Topic5\", \"Topic5\", \"Topic5\", \"Topic5\", \"Topic5\", \"Topic5\", \"Topic5\", \"Topic5\", \"Topic5\", \"Topic5\", \"Topic5\", \"Topic5\", \"Topic5\", \"Topic5\", \"Topic5\", \"Topic5\", \"Topic5\", \"Topic5\", \"Topic5\", \"Topic5\", \"Topic5\", \"Topic5\", \"Topic5\", \"Topic5\", \"Topic5\", \"Topic5\", \"Topic5\", \"Topic5\", \"Topic5\", \"Topic5\", \"Topic5\", \"Topic5\", \"Topic5\", \"Topic5\", \"Topic5\", \"Topic5\", \"Topic5\", \"Topic5\", \"Topic5\", \"Topic5\", \"Topic5\", \"Topic5\", \"Topic5\", \"Topic5\", \"Topic5\"], \"logprob\": [30.0, 29.0, 28.0, 27.0, 26.0, 25.0, 24.0, 23.0, 22.0, 21.0, 20.0, 19.0, 18.0, 17.0, 16.0, 15.0, 14.0, 13.0, 12.0, 11.0, 10.0, 9.0, 8.0, 7.0, 6.0, 5.0, 4.0, 3.0, 2.0, 1.0, -4.8299, -5.1452, -5.1461, -5.2087, -5.2113, -5.2774, -5.2775, -5.4287, -5.4287, -5.5142, -5.5143, -5.6079, -5.608, -5.7108, -5.7109, -5.7109, -5.7114, -5.8259, -5.826, -5.8271, -5.8302, -5.9562, -5.9574, -5.9575, -6.1055, -6.1055, -6.1058, -6.1076, -6.108, -3.815, -4.4682, -5.2762, -3.519, -5.1413, -4.4707, -2.987, -4.8838, -4.9945, -3.5187, -4.0322, -4.2684, -4.606, -4.4092, -4.3101, -5.2227, -3.9975, -3.9809, -3.935, -4.5011, -4.6227, -4.3036, -4.3693, -4.6146, -5.145, -4.5399, -4.4628, -4.7168, -4.7865, -5.0307, -4.8647, -5.083, -4.9649, -4.9485, -5.0097, -4.2945, -4.6044, -4.7974, -4.9137, -5.1185, -5.1193, -5.1974, -5.2828, -5.2828, -5.2828, -5.2829, -5.283, -5.2854, -5.3763, -5.3766, -5.3768, -5.3796, -5.4795, -5.4795, -5.4797, -5.5946, -5.5946, -5.5946, -5.5946, -5.5946, -5.5946, -5.5946, -5.5948, -5.7247, -5.7249, -5.0682, -4.8637, -4.2139, -3.6868, -3.6383, -4.7066, -5.0446, -3.7093, -4.097, -4.6155, -4.5958, -4.2855, -4.0397, -4.3976, -4.6177, -4.4801, -5.0453, -4.4263, -4.5328, -4.5726, -4.8143, -4.3825, -4.9572, -4.6987, -4.5963, -5.0293, -5.0017, -4.9815, -5.0296, -3.5606, -3.6842, -4.0422, -4.2178, -4.937, -5.0781, -5.2428, -5.5542, -3.7627, -5.6851, -5.6857, -3.8171, -5.8337, -5.834, -6.0097, -6.0097, -6.0097, -6.0104, -4.538, -3.7485, -4.4095, -6.2233, -6.2244, -6.2259, -6.2277, -4.4718, -6.4951, -6.4951, -6.4951, -6.4951, -4.6394, -4.7023, -4.873, -3.8462, -3.6585, -5.0656, -3.5295, -4.8234, -3.6088, -2.9042, -4.703, -3.6358, -4.4836, -3.5695, -4.3592, -4.0277, -4.6951, -3.979, -4.296, -4.3477, -4.4339, -4.6091, -4.2967, -4.5528, -4.6969, -4.7125, -4.8444, -4.8444, -4.8444, -4.9176, -4.919, -5.0816, -5.0816, -5.0816, -5.0819, -5.1808, -5.2784, -5.2786, -5.3934, -5.5234, -5.5239, -5.673, -5.673, -5.673, -5.673, -5.6731, -5.6732, -5.6734, -4.8439, -5.8489, -5.8489, -5.8489, -5.8489, -5.8489, -5.849, -4.9291, -5.0812, -5.0861, -5.0816, -3.6357, -3.875, -4.326, -4.8707, -3.8068, -4.9116, -3.9033, -4.0055, -4.3189, -4.5083, -4.3121, -4.5756, -4.9152, -4.5849, -4.2355, -4.6166, -4.8841, -4.7319, -4.5717, -4.7295, -4.4246, -4.4276, -4.5402, -4.6229, -4.5993, -4.7415, -4.6587, -4.7175, -4.8025, -4.8402, -4.8429, -0.6685, -4.7104, -5.1733, -5.2764, -5.2765, -5.3915, -5.3919, -5.8474, -6.0604, -6.0616, -6.0619, -6.0633, -6.0644, -6.3321, -6.3321, -6.3321, -6.3321, -6.3321, -6.3321, -6.3321, -6.3331, -6.3335, -6.3338, -6.335, -6.336, -6.3363, -6.3405, -4.7971, -6.7068, -6.7068, -5.7679, -5.6688, -4.2223, -4.792, -5.4556, -5.6699, -4.6012, -6.0587, -6.0599, -5.5688, -4.3383, -4.6141, -5.7202, -4.7622, -4.6688, -5.5191, -4.9472, -4.8854, -4.681, -5.5139, -5.2346, -5.6696, -5.2847, -5.4586, -5.4172, -5.6549, -5.6557], \"loglift\": [30.0, 29.0, 28.0, 27.0, 26.0, 25.0, 24.0, 23.0, 22.0, 21.0, 20.0, 19.0, 18.0, 17.0, 16.0, 15.0, 14.0, 13.0, 12.0, 11.0, 10.0, 9.0, 8.0, 7.0, 6.0, 5.0, 4.0, 3.0, 2.0, 1.0, 1.2732, 1.261, 1.2601, 1.2583, 1.2557, 1.2545, 1.2543, 1.2467, 1.2466, 1.2415, 1.2415, 1.2352, 1.2352, 1.228, 1.228, 1.2279, 1.2274, 1.2189, 1.2187, 1.2177, 1.2146, 1.207, 1.2058, 1.2058, 1.1922, 1.1922, 1.1918, 1.19, 1.1896, 1.1867, 1.1572, 1.1142, 0.9113, 1.0568, 0.9433, 0.625, 0.9914, 1.0131, 0.7003, 0.7714, 0.7958, 0.8752, 0.7744, 0.7353, 1.047, 0.5573, 0.4893, 0.4159, 0.5679, 0.6159, 0.3324, 0.3541, 0.51, 0.9627, 0.1368, -0.0783, 0.2112, 0.2054, 0.7707, 0.1531, 0.827, -0.1488, -0.3252, -0.0084, 1.4965, 1.4858, 1.4844, 1.4797, 1.4698, 1.4691, 1.4653, 1.4604, 1.4604, 1.4604, 1.4603, 1.4602, 1.4578, 1.4543, 1.4541, 1.4539, 1.4511, 1.447, 1.447, 1.4469, 1.438, 1.438, 1.438, 1.438, 1.438, 1.438, 1.438, 1.4378, 1.4265, 1.4263, 1.4073, 1.373, 1.2751, 1.1833, 1.169, 1.3027, 1.3504, 1.1121, 1.1598, 1.1326, 1.0864, 0.7804, 0.637, 0.8048, 0.7928, 0.5306, 1.101, 0.3773, 0.4591, 0.4452, 0.7521, 0.0477, 0.9399, 0.4573, 0.0397, 0.9273, 0.4988, -0.597, -0.3062, 1.5832, 1.5815, 1.5751, 1.5716, 1.5465, 1.5392, 1.529, 1.5062, 1.5017, 1.4936, 1.4929, 1.4921, 1.4791, 1.4787, 1.458, 1.458, 1.458, 1.4573, 1.4571, 1.4417, 1.4409, 1.4278, 1.4266, 1.4251, 1.4233, 1.4131, 1.3808, 1.3808, 1.3807, 1.3807, 1.3546, 1.3301, 1.3347, 1.2769, 1.1576, 1.2961, 1.0938, 1.208, 0.946, 0.7078, 1.0797, 0.7488, 1.0001, 0.6494, 0.8795, 0.6956, 0.9666, 0.3719, 0.632, 0.6702, 0.7317, 0.8013, 0.1734, 0.4926, 0.369, 1.6904, 1.6841, 1.684, 1.684, 1.6802, 1.679, 1.6708, 1.6708, 1.6708, 1.6706, 1.6591, 1.6573, 1.6571, 1.6482, 1.6367, 1.6363, 1.6216, 1.6216, 1.6216, 1.6216, 1.6215, 1.6215, 1.6213, 1.6192, 1.6012, 1.6012, 1.6012, 1.6012, 1.6011, 1.6011, 1.601, 1.5901, 1.5877, 1.552, 1.3656, 1.3709, 1.3794, 1.4755, 1.2039, 1.4385, 1.1163, 1.1191, 1.179, 1.1153, 0.9574, 0.9908, 1.2508, 0.8778, 0.4412, 0.7955, 1.1734, 0.8147, 0.4461, 0.7909, -0.0401, -0.0767, 0.0831, 0.2471, -0.1292, 0.5153, -0.0226, 0.3515, 0.3631, 0.2239, 0.3407, 2.0207, 1.9584, 1.9226, 1.9125, 1.9123, 1.9, 1.8995, 1.8355, 1.7968, 1.7952, 1.7949, 1.7931, 1.7917, 1.736, 1.736, 1.736, 1.736, 1.736, 1.736, 1.736, 1.7348, 1.7342, 1.7339, 1.7324, 1.7311, 1.7308, 1.7255, 1.6433, 1.6289, 1.6289, 1.5781, 1.552, 1.1499, 1.2932, 1.4666, 1.4287, 0.8616, 1.5742, 1.5721, 1.2371, 0.2977, 0.4037, 1.2576, 0.4402, 0.3508, 0.9294, 0.2988, 0.1805, -0.3301, 0.8141, 0.035, 0.8929, -0.8146, -0.3026, -0.6099, -0.4713, -0.6103]}, \"token.table\": {\"Topic\": [2, 4, 5, 4, 1, 2, 4, 2, 4, 5, 2, 3, 4, 4, 2, 4, 5, 1, 2, 3, 4, 5, 4, 1, 2, 4, 5, 3, 5, 1, 2, 3, 3, 4, 1, 5, 5, 1, 2, 3, 4, 5, 4, 5, 1, 3, 1, 3, 2, 1, 3, 4, 5, 4, 4, 1, 3, 4, 3, 1, 1, 1, 5, 1, 5, 1, 3, 4, 5, 3, 1, 1, 2, 3, 1, 2, 4, 5, 5, 2, 3, 2, 2, 4, 3, 1, 2, 3, 5, 5, 4, 1, 2, 4, 2, 4, 1, 2, 3, 4, 1, 1, 2, 4, 1, 3, 4, 1, 1, 2, 1, 1, 2, 3, 4, 2, 3, 4, 2, 2, 4, 1, 3, 4, 1, 2, 3, 4, 5, 1, 2, 3, 5, 1, 3, 1, 2, 3, 4, 5, 3, 4, 1, 3, 1, 5, 5, 1, 3, 2, 4, 5, 4, 3, 2, 5, 3, 2, 1, 2, 3, 5, 3, 3, 1, 2, 4, 4, 5, 3, 3, 1, 1, 3, 1, 2, 3, 4, 5, 5, 1, 2, 5, 2, 2, 5, 2, 1, 3, 3, 1, 2, 4, 5, 1, 4, 5, 2, 1, 4, 2, 1, 1, 2, 3, 4, 2, 3, 4, 1, 1, 2, 3, 4, 5, 3, 2, 5, 1, 2, 3, 4, 5, 1, 1, 3, 3, 5, 1, 2, 4, 5, 1, 2, 4, 3, 1, 2, 3, 4, 5, 5, 1, 3, 1, 1, 2, 3, 5, 3, 1, 2, 4, 1, 1, 1, 2, 4, 5, 2, 3, 1, 5, 2, 1, 4, 5, 4, 4, 4, 1, 2, 3, 1, 2, 4, 5, 1, 5, 1, 4, 5, 1, 2, 3, 4, 2, 1, 1, 3, 1, 5, 1, 4, 5, 1, 5, 2, 1, 4, 5, 1, 2, 3, 1, 2, 3, 2, 4, 1, 2, 3, 4, 5, 4, 4, 5, 5, 1, 5, 1, 2, 4, 3, 3, 1, 4, 2, 3, 5, 1, 5, 4, 2, 1, 2, 4, 5, 2, 1, 3, 1, 2, 4, 1, 5, 1, 2, 4, 5, 4, 1, 2, 4, 5, 2, 1, 3, 5, 4, 1, 2, 3, 4, 5, 2, 1, 2, 5, 2, 3, 4, 2, 1, 5, 2, 5, 2, 4, 1, 2, 3, 4, 1, 2, 3, 2, 1, 2, 3, 4, 5, 2, 2, 4, 5, 4, 1, 3, 4, 5, 3, 4, 2, 3, 3, 5, 1, 4, 2, 1, 2, 4, 5, 1, 2, 3, 4, 5, 1, 2, 4, 2, 3, 4, 4, 3, 2, 3, 4, 5, 5, 3, 1, 2, 4, 1, 2, 4, 5, 1, 3, 4, 5, 2, 1, 2, 3, 4, 3, 2, 3, 4, 1, 2, 3, 1, 2, 3, 4, 5], \"Freq\": [0.11107658068784244, 0.7034850110230022, 0.1851276344797374, 0.8616973983035597, 0.8643008273790691, 0.2931060244310998, 0.7034544586346395, 0.6729577411121688, 0.24471190585897046, 0.061177976464742614, 0.1355247137907339, 0.8470294611920867, 0.8388142115099956, 0.9027443574576024, 0.26429780993002194, 0.26429780993002194, 0.4404963498833699, 0.3302531774183493, 0.3446120112191471, 0.22974134081276473, 0.043076501402393386, 0.05743533520319118, 0.9303186538943833, 0.3391187387344503, 0.5651978978907505, 0.037679859859383366, 0.07535971971876673, 0.9072317859677904, 0.07888972051893829, 0.5828775382212588, 0.32117741901987723, 0.09516367970959326, 0.8537672676014001, 0.8388142063457367, 0.9451320233751996, 0.9044595991618517, 0.6225185682450146, 0.06546968342314675, 0.4801110117697429, 0.45828778396202735, 0.9186569063586856, 0.6223097442941146, 0.8388142115099956, 0.755938482446726, 0.4730276896951379, 0.5194029533907397, 0.1955792483514727, 0.7823169934058908, 0.9030822245320438, 0.11497592348713548, 0.13797110818456257, 0.41391332455368773, 0.3219325857639793, 0.9186569063586856, 0.9186580842209253, 0.2754158087223521, 0.02899113776024759, 0.6957873062459422, 0.9818769871134918, 0.8949094083689263, 0.8815293579509728, 0.20143790116750065, 0.6043137035025019, 0.927767440689816, 0.6222575157946397, 0.19865253755046824, 0.6058902395289281, 0.18871991067294483, 0.009932626877523412, 0.8204607464827327, 0.921633643029304, 0.30862698076240314, 0.16834198950676535, 0.5330829667714236, 0.08590822779237349, 0.6586297464081967, 0.14318037965395583, 0.11454430372316465, 0.6223820541046533, 0.8945427422810449, 0.8537554654596307, 0.9101557141569833, 0.6924321419048087, 0.2994301154182957, 0.8204844713372708, 0.560505042006704, 0.03029756983820022, 0.3332732682202024, 0.07574392459550056, 0.6225185682450146, 0.8921201139186206, 0.06356253832315921, 0.7119004292193831, 0.22882513796337317, 0.07700407809813276, 0.8470448590794604, 0.25625315713190644, 0.05125063142638129, 0.4270885952198441, 0.25625315713190644, 0.8642820517873158, 0.3334446654480526, 0.08336116636201316, 0.5835281645340921, 0.7012306151481514, 0.2629614806805568, 0.8616978216654714, 0.9415959839404263, 0.0997112411998924, 0.8475455501990854, 0.9056042336521806, 0.1574174358436627, 0.6659968439539575, 0.024218067052871182, 0.14530840231722708, 0.35817712124760415, 0.35817712124760415, 0.2865416969980833, 0.9212943547231779, 0.8945338294929789, 0.8788230563839289, 0.9216152296299053, 0.8615294596932797, 0.1174812899581745, 0.3822712827944827, 0.23137472379666058, 0.04023908239941923, 0.17101610019753172, 0.18107587079738655, 0.07731706591017762, 0.4793658086431012, 0.29380485045867494, 0.15463413182035524, 0.9376008332935197, 0.8537672676014002, 0.48080480957667965, 0.062039330267958666, 0.18611799080387598, 0.24815732107183466, 0.015509832566989666, 0.8418017913456959, 0.14030029855761597, 0.7294492100655857, 0.24314973668852854, 0.8642939848103636, 0.7556525426899596, 0.847019201553501, 0.3799961020601603, 0.6016604949285872, 0.9101556797284966, 0.3056318402135457, 0.6723900484698007, 0.8616977278520704, 0.8204303887631471, 0.8863425067311572, 0.06331017905222551, 0.948422122936495, 0.9213092966175521, 0.38423722024645324, 0.1646730943913371, 0.4061936328319648, 0.043912825171023226, 0.7704663603795878, 0.8774814137666146, 0.5807297318855084, 0.12905105153011298, 0.25810210306022596, 0.20124994044630956, 0.6037498213389286, 0.9572836579610441, 0.9662201580776756, 0.905600455902274, 0.4962134669929677, 0.4962134669929677, 0.3094909031941685, 0.176851944682382, 0.3979168755353595, 0.07368831028432583, 0.029475324113730335, 0.8135265375590296, 0.3570738605395395, 0.21004344737619968, 0.42008689475239935, 0.9330702830123206, 0.9030610548079854, 0.8588796811568113, 0.8945338768123944, 0.28425024901842855, 0.6903220333304694, 0.8774871171625349, 0.13937066142280735, 0.13937066142280735, 0.6039395328321652, 0.09291377428187156, 0.2762469446678219, 0.34530868083477734, 0.34530868083477734, 0.8841012661011735, 0.9451350143464676, 0.8616978918060307, 0.8841012661011735, 0.937680101932287, 0.6714850438907679, 0.22928757596270125, 0.03275536799467161, 0.05732189399067531, 0.7943869975253349, 0.03971934987626675, 0.11915804962880024, 0.8643043332476991, 0.27074483051781734, 0.33843103814727166, 0.21998017479572657, 0.06768620762945433, 0.1015293114441815, 0.9861421812630149, 0.8841012661011735, 0.6220841090730241, 0.40847453160792546, 0.03782171588962273, 0.2950093839390573, 0.16641554991434, 0.0983364613130191, 0.9277828586265012, 0.07542954452765471, 0.9051545343318567, 0.7704652970412891, 0.6225185682450146, 0.6019761931890959, 0.1080470090339403, 0.2160940180678806, 0.061741148019394454, 0.8846178588868412, 0.10151352479029326, 0.8616977624929472, 0.8537672676014003, 0.08570088804011525, 0.12855133206017286, 0.08570088804011525, 0.2142522201002881, 0.4713548842206338, 0.6219312816418677, 0.19374494403414563, 0.7749797761365825, 0.9056033112276529, 0.17724989549615822, 0.4785747178396272, 0.12407492684731075, 0.21269987459538986, 0.9366152272376019, 0.11681872771348915, 0.8177310939944241, 0.9186569063586856, 0.9598045869926806, 0.9143435171785086, 0.8657505022660589, 0.1352735159790717, 0.9345415166948176, 0.90442417842468, 0.14007602565732177, 0.8579656571510959, 0.9055981111221509, 0.8589708473690024, 0.8710471882422088, 0.7730203655298088, 0.10306938207064117, 0.10306938207064117, 0.9027449027858854, 0.9420066860692021, 0.8388142115099956, 0.22884585920775588, 0.12044518905671361, 0.6504040209062535, 0.3897379282644191, 0.19486896413220955, 0.3897379282644191, 0.8135265375590296, 0.8815318139937994, 0.9993739377543677, 0.8949275972289584, 0.9300290220148162, 0.6225178809036621, 0.4251344981899596, 0.1250395582911646, 0.050015823316465834, 0.40012658653172667, 0.9101557141569833, 0.9416364565594527, 0.2260025807113556, 0.7345083873119057, 0.8643007479726531, 0.6211862473899916, 0.8815239933786428, 0.8156669582692714, 0.1483030833216857, 0.3023563119477298, 0.6047126238954595, 0.8841012661011735, 0.3697385752484103, 0.2464923834989402, 0.3081154793736752, 0.5435929444497687, 0.06629182249387423, 0.39112175271385796, 0.16259094025625248, 0.04064773506406312, 0.7723069662171993, 0.8710408452173662, 0.838814444873078, 0.25033228926665985, 0.11734326059374682, 0.43025862217707167, 0.17210344887082865, 0.03129153615833248, 0.8616978918060307, 0.9345426584097548, 0.9216990488751399, 0.6225185682450146, 0.8140884960028382, 0.11629835657183403, 0.0438973736890197, 0.36581144740849747, 0.5852983158535959, 0.8952357570370524, 0.7704663603795878, 0.2225257909522747, 0.7788402683329615, 0.5462372297281974, 0.1092474459456395, 0.2731186148640987, 0.8949103794050072, 0.6225185682450146, 0.8616954343665796, 0.9578623940234803, 0.5913908969440472, 0.08696924955059519, 0.2435138987416665, 0.08696924955059519, 0.8841012661011735, 0.7675989421026296, 0.1918997355256574, 0.047210629419575406, 0.7789753854229942, 0.16523720296851394, 0.39582199602793067, 0.5937329940418961, 0.2653662693381284, 0.1326831346690642, 0.45491360457964863, 0.1326831346690642, 0.8788275692403164, 0.314313174681609, 0.4086071270860917, 0.2724047513907278, 0.6225185682450146, 0.8841012661011735, 0.7533662021458271, 0.15860341097806885, 0.07930170548903442, 0.9345425920725531, 0.21858331089863728, 0.1530083176290461, 0.17486664871890983, 0.3934499596175471, 0.08743332435945492, 0.884104089327825, 0.9144188991220229, 0.26676876727208537, 0.6669219181802135, 0.2381869156721694, 0.1667308409705186, 0.5716485976132066, 0.8841012661011735, 0.35416702576534925, 0.5902783762755821, 0.9474347669086721, 0.9418340054407055, 0.5680883006113703, 0.42606622545852774, 0.1473470523079263, 0.0818594735044035, 0.7203633668387508, 0.049115684102642096, 0.6114024999782796, 0.0719297058797976, 0.2877188235191904, 0.9101819159152418, 0.33678180198691643, 0.04041381623842997, 0.3771956182253464, 0.1885978091126732, 0.05388508831790663, 0.9030910366573704, 0.6377453656849117, 0.13665972121819536, 0.18221296162426048, 0.9114433838591391, 0.7008547038315526, 0.2847222234315682, 0.5230809959026439, 0.4184647967221151, 0.22339749984749768, 0.7260418745043674, 0.9388508198800525, 0.9881824576419983, 0.8204994617112875, 0.7561897541159863, 0.442723611225609, 0.541106635942411, 0.9101580724611187, 0.1193933877353842, 0.7044209876387668, 0.10745404896184578, 0.07163603264123052, 0.4431483683852362, 0.10226500808890066, 0.23861835220743488, 0.15339751213335098, 0.05965458805185872, 0.05101192328361127, 0.4591073095525014, 0.484613271194307, 0.9161571279117077, 0.0771943744654293, 0.8491381191197223, 0.8388136291119684, 0.7704652970412891, 0.0738148405225722, 0.19191858535868772, 0.5314668517625198, 0.19191858535868772, 0.6218786782860882, 0.8952254162978175, 0.32408743804828805, 0.10802914601609602, 0.5401457300804801, 0.8948977124815239, 0.06252879687394484, 0.8754031562352278, 0.755885765778772, 0.6558785303977227, 0.28109079874188114, 0.046848466456980195, 0.7553569927385547, 0.9030588578585671, 0.5058121686364822, 0.04696827280195905, 0.41187562303256403, 0.03612944061689158, 0.909052948300196, 0.9101670032439915, 0.06685959161486257, 0.8691746909932135, 0.16437449536819446, 0.2583027784357341, 0.5400876276383533, 0.13262828331780754, 0.33893894625661924, 0.05894590369680335, 0.27999304255981594, 0.1915741870146109], \"Term\": [\"account\", \"account\", \"account\", \"achieve\", \"achievement\", \"activity\", \"activity\", \"actual\", \"actual\", \"actual\", \"agency\", \"agency\", \"ahs\", \"airline\", \"alert\", \"alert\", \"alert\", \"also\", \"also\", \"also\", \"also\", \"also\", \"amount\", \"analysis\", \"analysis\", \"analysis\", \"analysis\", \"analytic\", \"analytic\", \"analyze\", \"analyze\", \"analyze\", \"around\", \"assign\", \"attribute\", \"auto\", \"avoid\", \"base\", \"base\", \"base\", \"beggining\", \"behind\", \"bgt\", \"bid\", \"block\", \"block\", \"brand\", \"brand\", \"breakfast\", \"budget\", \"budget\", \"budget\", \"budget\", \"bus\", \"buse\", \"business\", \"business\", \"business\", \"button\", \"campaign\", \"cancellation\", \"cash\", \"cash\", \"category\", \"certification\", \"channel\", \"channel\", \"channel\", \"channel\", \"chargeback\", \"city\", \"company\", \"company\", \"company\", \"compare\", \"compare\", \"compare\", \"compare\", \"comparisson\", \"competitive\", \"confirm\", \"consolidate\", \"consumption\", \"consumption\", \"contactability\", \"contain\", \"contain\", \"contain\", \"contain\", \"contribute\", \"corporate\", \"cost\", \"cost\", \"cost\", \"could\", \"could\", \"country\", \"country\", \"country\", \"country\", \"cover\", \"create\", \"create\", \"create\", \"creation\", \"creation\", \"credit\", \"criterion\", \"daily\", \"daily\", \"dashboard\", \"datum\", \"datum\", \"datum\", \"datum\", \"day\", \"day\", \"day\", \"dedicate\", \"dedication\", \"delete\", \"description\", \"destination\", \"destination\", \"detail\", \"detail\", \"detail\", \"detail\", \"detail\", \"detailed\", \"detailed\", \"detailed\", \"detailed\", \"development\", \"device\", \"different\", \"different\", \"different\", \"different\", \"different\", \"digital\", \"digital\", \"dimension\", \"dimension\", \"direct\", \"drill\", \"dummy\", \"dynamic\", \"dynamic\", \"effort\", \"emission\", \"emission\", \"employee\", \"end\", \"energy\", \"energy\", \"error\", \"every\", \"evolution\", \"evolution\", \"evolution\", \"evolution\", \"evolutionary\", \"evolutive\", \"executive\", \"executive\", \"executive\", \"expense\", \"expense\", \"feed\", \"feeder\", \"field\", \"filter\", \"filter\", \"first\", \"first\", \"first\", \"first\", \"first\", \"fix\", \"forecast\", \"forecast\", \"forecast\", \"forecasted\", \"format\", \"former\", \"forward\", \"general\", \"general\", \"generate\", \"global\", \"global\", \"global\", \"global\", \"graph\", \"graph\", \"graph\", \"graphical\", \"hide\", \"hiden\", \"historical\", \"hoc\", \"hotel\", \"hotel\", \"hotel\", \"hotel\", \"hour\", \"hour\", \"hour\", \"identification\", \"include\", \"include\", \"include\", \"include\", \"include\", \"index\", \"influence\", \"info\", \"information\", \"information\", \"information\", \"information\", \"information\", \"informative\", \"interactive\", \"interactive\", \"intermediated\", \"kilogram\", \"kpi\", \"kpi\", \"kpi\", \"kpi\", \"kpis\", \"kpis\", \"kwh\", \"language\", \"last\", \"last\", \"last\", \"last\", \"last\", \"late\", \"later\", \"later\", \"lead\", \"level\", \"level\", \"level\", \"level\", \"like\", \"link\", \"link\", \"loading\", \"loyalty\", \"mail\", \"main\", \"main\", \"manage\", \"manual\", \"market\", \"market\", \"master\", \"material\", \"medium\", \"metric\", \"metric\", \"metric\", \"monitarization\", \"monitor\", \"monitorization\", \"month\", \"month\", \"month\", \"monthly\", \"monthly\", \"monthly\", \"multiple\", \"name\", \"nan\", \"navigate\", \"next\", \"noy\", \"number\", \"number\", \"number\", \"number\", \"occ\", \"oci\", \"oco\", \"oco\", \"offer\", \"office\", \"operational\", \"order\", \"order\", \"otb\", \"otb\", \"outlier\", \"overview\", \"overview\", \"overview\", \"page\", \"page\", \"page\", \"parameter\", \"parameter\", \"parameter\", \"payroll\", \"pende\", \"performance\", \"performance\", \"performance\", \"performance\", \"performance\", \"permanently\", \"perspective\", \"pick\", \"pie\", \"point\", \"point\", \"portfolio\", \"portfolio\", \"portfolio\", \"potential\", \"prediction\", \"present\", \"present\", \"previous\", \"previous\", \"previous\", \"program\", \"proportion\", \"purchase\", \"quality\", \"quest\", \"quest\", \"quest\", \"quest\", \"quickly\", \"rate\", \"rate\", \"ratio\", \"ratio\", \"ratio\", \"reason\", \"reason\", \"regard\", \"regard\", \"regard\", \"regard\", \"remain\", \"report\", \"report\", \"report\", \"represent\", \"representation\", \"reservation\", \"reservation\", \"reservation\", \"rest\", \"revenue\", \"revenue\", \"revenue\", \"revenue\", \"revenue\", \"review\", \"rfp\", \"rfps\", \"rfps\", \"sale\", \"sale\", \"sale\", \"scatter\", \"scope\", \"scope\", \"score\", \"season\", \"section\", \"section\", \"segment\", \"segment\", \"segment\", \"segment\", \"select\", \"select\", \"select\", \"sensitive\", \"show\", \"show\", \"show\", \"show\", \"show\", \"since\", \"source\", \"source\", \"source\", \"special\", \"specific\", \"specific\", \"spit\", \"spit\", \"start\", \"start\", \"str\", \"subchannel\", \"success\", \"summarize\", \"summary\", \"summary\", \"survey\", \"tab\", \"tab\", \"tab\", \"tab\", \"table\", \"table\", \"table\", \"table\", \"table\", \"team\", \"team\", \"team\", \"term\", \"tms\", \"tms\", \"together\", \"tos\", \"total\", \"total\", \"total\", \"total\", \"training\", \"travel\", \"type\", \"type\", \"type\", \"unmanaged\", \"upload\", \"upload\", \"upselle\", \"user\", \"user\", \"user\", \"utilite\", \"value\", \"view\", \"view\", \"view\", \"view\", \"volume\", \"water\", \"way\", \"way\", \"week\", \"week\", \"week\", \"year\", \"year\", \"year\", \"year\", \"year\"]}, \"R\": 30, \"lambda.step\": 0.01, \"plot.opts\": {\"xlab\": \"PC1\", \"ylab\": \"PC2\"}, \"topic.order\": [3, 5, 4, 1, 2]};\n",
       "\n",
       "function LDAvis_load_lib(url, callback){\n",
       "  var s = document.createElement('script');\n",
       "  s.src = url;\n",
       "  s.async = true;\n",
       "  s.onreadystatechange = s.onload = callback;\n",
       "  s.onerror = function(){console.warn(\"failed to load library \" + url);};\n",
       "  document.getElementsByTagName(\"head\")[0].appendChild(s);\n",
       "}\n",
       "\n",
       "if(typeof(LDAvis) !== \"undefined\"){\n",
       "   // already loaded: just create the visualization\n",
       "   !function(LDAvis){\n",
       "       new LDAvis(\"#\" + \"ldavis_el15586119409203369100052957\", ldavis_el15586119409203369100052957_data);\n",
       "   }(LDAvis);\n",
       "}else if(typeof define === \"function\" && define.amd){\n",
       "   // require.js is available: use it to load d3/LDAvis\n",
       "   require.config({paths: {d3: \"https://d3js.org/d3.v5\"}});\n",
       "   require([\"d3\"], function(d3){\n",
       "      window.d3 = d3;\n",
       "      LDAvis_load_lib(\"https://cdn.jsdelivr.net/gh/bmabey/pyLDAvis@3.4.0/pyLDAvis/js/ldavis.v3.0.0.js\", function(){\n",
       "        new LDAvis(\"#\" + \"ldavis_el15586119409203369100052957\", ldavis_el15586119409203369100052957_data);\n",
       "      });\n",
       "    });\n",
       "}else{\n",
       "    // require.js not available: dynamically load d3 & LDAvis\n",
       "    LDAvis_load_lib(\"https://d3js.org/d3.v5.js\", function(){\n",
       "         LDAvis_load_lib(\"https://cdn.jsdelivr.net/gh/bmabey/pyLDAvis@3.4.0/pyLDAvis/js/ldavis.v3.0.0.js\", function(){\n",
       "                 new LDAvis(\"#\" + \"ldavis_el15586119409203369100052957\", ldavis_el15586119409203369100052957_data);\n",
       "            })\n",
       "         });\n",
       "}\n",
       "</script>"
      ],
      "text/plain": [
       "<IPython.core.display.HTML object>"
      ]
     },
     "execution_count": 10,
     "metadata": {},
     "output_type": "execute_result"
    }
   ],
   "source": [
    "import pyLDAvis\n",
    "import pyLDAvis._prepare as prep\n",
    "from pyLDAvis import display\n",
    "\n",
    "pyLDAvis.enable_notebook()\n",
    "\n",
    "panel = prep.prepare(\n",
    "    topic_term_dists=lda_model.components_ / lda_model.components_.sum(axis=1)[:, None],\n",
    "    doc_topic_dists=lda_model.transform(dtm),\n",
    "    doc_lengths=[len(t.split()) for t in views_df[\"clean_text\"]],\n",
    "    vocab=vectorizer.get_feature_names_out(),\n",
    "    term_frequency=dtm.sum(axis=0).A1\n",
    ")\n",
    "display(panel)\n"
   ]
  },
  {
   "cell_type": "markdown",
   "id": "d48962ad",
   "metadata": {},
   "source": [
    "## Inferring Topics from New Descriptions\n",
    "\n",
    "We can use our trained LDA model to infer the most probable topics for any given text description. This allows us to:\n",
    "- Explore how new or unseen reports align with existing topics.\n",
    "- Suggest tags or categories dynamically.\n",
    "- Validate the thematic coherence of generated summaries or keywords.\n",
    "\n",
    "Below, you can input a sample text and view the topic distribution inferred by the model.\n"
   ]
  },
  {
   "cell_type": "code",
   "execution_count": 11,
   "id": "6853aa6e",
   "metadata": {},
   "outputs": [
    {
     "name": "stdout",
     "output_type": "stream",
     "text": [
      "Topic 2 (0.51): view, page, hotel, kpis, information\n",
      "Topic 0 (0.41): business, portfolio, account, total, summary\n",
      "Topic 4 (0.03): tab, cost, datum, report, consumption\n"
     ]
    }
   ],
   "source": [
    "def infer_topics(text, n_top=3):\n",
    "    # Preprocess text as in training\n",
    "    clean = preprocess(text)\n",
    "    \n",
    "    # Vectorize\n",
    "    vectorized = vectorizer.transform([clean])\n",
    "    \n",
    "    # Get topic distribution\n",
    "    topic_dist = lda_model.transform(vectorized)[0]\n",
    "    \n",
    "    # Show top N topics with weights\n",
    "    top_topics = sorted(list(enumerate(topic_dist)), key=lambda x: -x[1])[:n_top]\n",
    "    for topic_idx, weight in top_topics:\n",
    "        terms = [vectorizer.get_feature_names_out()[i] \n",
    "                 for i in lda_model.components_[topic_idx].argsort()[:-6:-1]]\n",
    "        print(f\"Topic {topic_idx} ({weight:.2f}):\", \", \".join(terms))\n",
    "\n",
    "# Ejemplo de uso\n",
    "sample_description = \"Weekly dashboard for performance and revenue trends in hotel bookings\"\n",
    "infer_topics(sample_description)\n"
   ]
  }
 ],
 "metadata": {
  "kernelspec": {
   "display_name": ".venv",
   "language": "python",
   "name": "python3"
  },
  "language_info": {
   "codemirror_mode": {
    "name": "ipython",
    "version": 3
   },
   "file_extension": ".py",
   "mimetype": "text/x-python",
   "name": "python",
   "nbconvert_exporter": "python",
   "pygments_lexer": "ipython3",
   "version": "3.9.16"
  }
 },
 "nbformat": 4,
 "nbformat_minor": 5
}
